{
 "cells": [
  {
   "cell_type": "code",
   "execution_count": 139,
   "metadata": {},
   "outputs": [],
   "source": [
    "import pandas as pd\n",
    "import numpy as np\n",
    "import tensorflow as tf\n",
    "import tensorflow_addons as tfa\n",
    "from sklearn.model_selection import train_test_split\n",
    "import plotly.express as px\n",
    "import emd\n",
    "tf.keras.mixed_precision.set_global_policy('mixed_float16')\n",
    "\n",
    "BATCH_SIZE = 32\n",
    "CHANNEL_NUMBER = 3\n",
    "WINDOW_SIZE = 300\n",
    "SLIDING_STEP = int(WINDOW_SIZE * 0.4)\n",
    "KEY_CLASS = {0:'undefined action', 1:'up', 2:'down', 3:'left', 4:'right'}\n",
    "CLASS_NUMBER = 3\n",
    "NUM_IMF = 5\n",
    "UNDEFINED_ACTION = 0\n",
    "LABEL_THRESHOLD = 0.7\n",
    "\n",
    "if CLASS_NUMBER < 2:\n",
    "    CLASS_NUMBER = 2\n",
    "\n",
    "def slicingAndNormalize(arr):\n",
    "    def normalizer(X):\n",
    "        mean = np.average(X, axis=1)\n",
    "        std = np.std(X, axis=1)\n",
    "        ret = (X.copy() - mean) / std\n",
    "        return ret\n",
    "    \n",
    "    totalLength = arr.shape[0]\n",
    "    if totalLength <= WINDOW_SIZE:\n",
    "        return arr\n",
    "    ret = normalizer((arr[:WINDOW_SIZE, :])[np.newaxis, :])\n",
    "    \n",
    "    i = SLIDING_STEP\n",
    "    while (totalLength - i) > WINDOW_SIZE:\n",
    "        new = normalizer((arr[i:(i + WINDOW_SIZE), :])[np.newaxis, :])\n",
    "        ret = np.concatenate([ret, new], axis=0)\n",
    "        i += SLIDING_STEP\n",
    "    return ret\n",
    "\n",
    "def slicing(x, y):\n",
    "    totalLength = x.shape[0]\n",
    "    assert totalLength == y.shape[0], \"Data numbers not matching with that of labels.\"\n",
    "    if totalLength <= WINDOW_SIZE:\n",
    "        return x\n",
    "    \n",
    "    thresholdWindow = LABEL_THRESHOLD * WINDOW_SIZE\n",
    "    retx = (x[:WINDOW_SIZE, :])[np.newaxis, :]\n",
    "    rety = [np.argmax(np.sum(y[:WINDOW_SIZE], axis=0))]\n",
    "    \n",
    "    i = SLIDING_STEP\n",
    "    while (totalLength - i) > WINDOW_SIZE:\n",
    "        new = (x[i:(i + WINDOW_SIZE), :])[np.newaxis, :]\n",
    "        retx = np.concatenate([retx, new], axis=0)\n",
    "        classSum = np.sum(y[i:(i + WINDOW_SIZE)], axis = 0)\n",
    "        maxIdx = np.argmax(classSum)\n",
    "        if classSum[maxIdx] > thresholdWindow:\n",
    "            rety.append(maxIdx)\n",
    "        else:\n",
    "            rety.append(UNDEFINED_ACTION)\n",
    "        i += SLIDING_STEP\n",
    "    return retx, rety\n",
    "\n",
    "def one_hot_label(arr):\n",
    "    label_dict = {}\n",
    "    index = 1\n",
    "    for val in arr:\n",
    "        if not label_dict.get(val, False):\n",
    "            label_dict[val] = index\n",
    "            index += 1\n",
    "    return label_dict\n",
    "\n",
    "def reverse_label(label_dict):\n",
    "    reverse_label_dict = {}\n",
    "    for key in label_dict:\n",
    "        reverse_label_dict[label_dict[key] - 1] = KEY_CLASS[key]\n",
    "    return reverse_label_dict\n",
    "\n",
    "def one_hot(arr, label_dict = None):\n",
    "    if not isinstance(label_dict, dict):\n",
    "        label_dict = one_hot_label(arr)\n",
    "\n",
    "    ret = []\n",
    "    key_num = len(list(label_dict.keys()))\n",
    "    for val in arr:\n",
    "        tmp = [0] * key_num\n",
    "        tmp[label_dict[val] - 1] = 1\n",
    "        ret.append(np.array(tmp))\n",
    "        \n",
    "    return np.array(ret)    \n",
    "\n",
    "def emdSignal(sig):\n",
    "    dataNumber = sig.shape[0]\n",
    "    channel = sig.shape[-1]\n",
    "    ret = None\n",
    "    \n",
    "    for i in range(dataNumber):\n",
    "        temp = None\n",
    "        \n",
    "        for c in range(channel):\n",
    "            raw = sig[i, :, c]\n",
    "            imf = emd.sift.sift(raw, max_imfs=NUM_IMF, imf_opts={'sd_thresh': 0.1})\n",
    "            \n",
    "            if imf.shape[-1] < NUM_IMF:\n",
    "                compensate = np.zeros((WINDOW_SIZE, NUM_IMF - imf.shape[-1]))\n",
    "                imf = np.concatenate([imf, compensate], axis = 1)\n",
    "            \n",
    "            if not type(temp) == np.ndarray: \n",
    "                temp = imf\n",
    "            else: \n",
    "                temp = np.concatenate([temp, imf], axis = 1)\n",
    "            \n",
    "        if type(temp) == np.ndarray: \n",
    "            if not type(ret) == np.ndarray: \n",
    "                ret = temp[np.newaxis, :]\n",
    "            else: \n",
    "                ret = np.concatenate([ret, temp[np.newaxis, :]], axis = 0)\n",
    "                \n",
    "    return ret\n",
    "\n",
    "def buildModel(shape):\n",
    "    model = tf.keras.Sequential([\n",
    "        tf.keras.layers.Input(shape = shape),\n",
    "        tf.keras.layers.Conv1D(80, 100, padding='same', activation='relu'),\n",
    "        tf.keras.layers.BatchNormalization(axis=1),\n",
    "        tf.keras.layers.MaxPool1D(padding='same'),\n",
    "        tf.keras.layers.Dropout(0.2),\n",
    "        tf.keras.layers.Conv1D(100, 120, padding='same', activation='relu'),\n",
    "        tf.keras.layers.BatchNormalization(axis=1),\n",
    "        tf.keras.layers.MaxPool1D(padding='same'),\n",
    "        tf.keras.layers.Dropout(0.2),\n",
    "        tf.keras.layers.Conv1D(120, 140, padding='same', activation='relu'),\n",
    "        tf.keras.layers.BatchNormalization(axis=1),\n",
    "        tf.keras.layers.MaxPool1D(padding='same'),\n",
    "        tf.keras.layers.Dropout(0.05),\n",
    "        tf.keras.layers.Flatten(),\n",
    "        tf.keras.layers.Dense(1024, activation='relu'),\n",
    "        tf.keras.layers.Dense(CLASS_NUMBER, activation='softmax')]\n",
    "    )\n",
    "    model.compile(optimizer='adam',\n",
    "                loss=tf.keras.losses.CategoricalCrossentropy(),\n",
    "                metrics=[tf.keras.metrics.CategoricalAccuracy()])\n",
    "                        #  tf.keras.metrics.Precision(thresholds = 0.5),\n",
    "                        #  tf.keras.metrics.Recall(thresholds= 0.5)])\n",
    "    model.summary()\n",
    "    return model"
   ]
  },
  {
   "cell_type": "code",
   "execution_count": 32,
   "metadata": {},
   "outputs": [],
   "source": [
    "trainFile = './data/train_X.npy'\n",
    "trainLabelFile = \"./data/train_y.npy\"\n",
    "testFile = './data/test1_X.npy'\n",
    "testLabelFile = \"./data/test1_y.npy\"\n",
    "\n",
    "trainSignal = np.load(trainFile)\n",
    "trainLabel = np.load(trainLabelFile)\n",
    "testSignal = np.load(testFile)\n",
    "testLabel = np.load(testLabelFile)"
   ]
  },
  {
   "cell_type": "code",
   "execution_count": null,
   "metadata": {},
   "outputs": [],
   "source": [
    "label_dict = one_hot_label(trainLabel)\n",
    "reverse_label_dict = reverse_label(label_dict)\n",
    "X_all, y_all = slicing(np.concatenate([trainSignal, testSignal], axis=0),\n",
    "                       one_hot(np.concatenate([trainLabel, testLabel], axis=0), label_dict))\n",
    "X = emdSignal(X_all)\n",
    "y = one_hot(y_all)\n",
    "\n",
    "print(X.shape)\n",
    "print(label_dict)\n",
    "print(reverse_label_dict)"
   ]
  },
  {
   "cell_type": "code",
   "execution_count": 39,
   "metadata": {},
   "outputs": [
    {
     "name": "stdout",
     "output_type": "stream",
     "text": [
      "{0: 1, 4: 2, 3: 3}\n",
      "(496, 300, 15)\n",
      "(279, 300, 15)\n"
     ]
    }
   ],
   "source": [
    "train_label_dict = one_hot_label(trainLabel)\n",
    "X, y = slicing(trainSignal, one_hot(trainLabel, train_label_dict))\n",
    "train_out_label_dict = one_hot_label(y)\n",
    "y = one_hot(y, train_out_label_dict)\n",
    "X = emdSignal(X)\n",
    "\n",
    "X_test, y_test = slicing(testSignal, one_hot(testLabel, train_label_dict))\n",
    "y_test = one_hot(y_test, train_out_label_dict)\n",
    "X_test = emdSignal(X_test)\n",
    "print(train_label_dict)\n",
    "print(X.shape)\n",
    "print(X_test.shape)"
   ]
  },
  {
   "cell_type": "code",
   "execution_count": null,
   "metadata": {},
   "outputs": [],
   "source": [
    "threeChan = X[18]\n",
    "f = threeChan[:, 0].T\n",
    "s = threeChan[:, 1].T\n",
    "t = threeChan[:, 2].T\n",
    "imf = emd.sift.sift(f, max_imfs=4, imf_opts={'sd_thresh': 0.1})\n",
    "print(imf.shape)\n",
    "emd.plotting.plot_imfs(imf)"
   ]
  },
  {
   "cell_type": "code",
   "execution_count": null,
   "metadata": {},
   "outputs": [],
   "source": [
    "n += 1\n",
    "print(n, n*SLIDING_STEP, n*SLIDING_STEP + WINDOW_SIZE)\n",
    "px.line(X[n]).show()"
   ]
  },
  {
   "cell_type": "code",
   "execution_count": 130,
   "metadata": {},
   "outputs": [],
   "source": [
    "X_train, X_test, y_train, y_test = train_test_split(X, y, test_size=0.2, random_state=777)"
   ]
  },
  {
   "cell_type": "code",
   "execution_count": 140,
   "metadata": {},
   "outputs": [
    {
     "name": "stdout",
     "output_type": "stream",
     "text": [
      "Model: \"sequential_21\"\n",
      "_________________________________________________________________\n",
      " Layer (type)                Output Shape              Param #   \n",
      "=================================================================\n",
      " conv1d_63 (Conv1D)          (None, 300, 80)           120080    \n",
      "                                                                 \n",
      " batch_normalization_63 (Bat  (None, 300, 80)          1200      \n",
      " chNormalization)                                                \n",
      "                                                                 \n",
      " max_pooling1d_63 (MaxPoolin  (None, 150, 80)          0         \n",
      " g1D)                                                            \n",
      "                                                                 \n",
      " dropout_44 (Dropout)        (None, 150, 80)           0         \n",
      "                                                                 \n",
      " conv1d_64 (Conv1D)          (None, 150, 100)          960100    \n",
      "                                                                 \n",
      " batch_normalization_64 (Bat  (None, 150, 100)         600       \n",
      " chNormalization)                                                \n",
      "                                                                 \n",
      " max_pooling1d_64 (MaxPoolin  (None, 75, 100)          0         \n",
      " g1D)                                                            \n",
      "                                                                 \n",
      " dropout_45 (Dropout)        (None, 75, 100)           0         \n",
      "                                                                 \n",
      " conv1d_65 (Conv1D)          (None, 75, 120)           1680120   \n",
      "                                                                 \n",
      " batch_normalization_65 (Bat  (None, 75, 120)          300       \n",
      " chNormalization)                                                \n",
      "                                                                 \n",
      " max_pooling1d_65 (MaxPoolin  (None, 38, 120)          0         \n",
      " g1D)                                                            \n",
      "                                                                 \n",
      " dropout_46 (Dropout)        (None, 38, 120)           0         \n",
      "                                                                 \n",
      " flatten_21 (Flatten)        (None, 4560)              0         \n",
      "                                                                 \n",
      " dense_42 (Dense)            (None, 1024)              4670464   \n",
      "                                                                 \n",
      " dense_43 (Dense)            (None, 3)                 3075      \n",
      "                                                                 \n",
      "=================================================================\n",
      "Total params: 7,435,939\n",
      "Trainable params: 7,434,889\n",
      "Non-trainable params: 1,050\n",
      "_________________________________________________________________\n",
      "Epoch 1/100\n",
      "20/20 [==============================] - 2s 34ms/step - loss: 3.6576 - categorical_accuracy: 0.5588 - val_loss: 4.4675 - val_categorical_accuracy: 0.5833\n",
      "Epoch 2/100\n",
      "20/20 [==============================] - 0s 22ms/step - loss: 2.0436 - categorical_accuracy: 0.5427 - val_loss: 1.1808 - val_categorical_accuracy: 0.5513\n",
      "Epoch 3/100\n",
      "20/20 [==============================] - 0s 20ms/step - loss: 1.2051 - categorical_accuracy: 0.6618 - val_loss: 0.9471 - val_categorical_accuracy: 0.5962\n",
      "Epoch 4/100\n",
      "20/20 [==============================] - 0s 20ms/step - loss: 1.0360 - categorical_accuracy: 0.6651 - val_loss: 0.9763 - val_categorical_accuracy: 0.6282\n",
      "Epoch 5/100\n",
      "20/20 [==============================] - 0s 20ms/step - loss: 0.8974 - categorical_accuracy: 0.6908 - val_loss: 0.9885 - val_categorical_accuracy: 0.6090\n",
      "Epoch 6/100\n",
      "20/20 [==============================] - 0s 20ms/step - loss: 0.9285 - categorical_accuracy: 0.6779 - val_loss: 0.9363 - val_categorical_accuracy: 0.6090\n",
      "Epoch 7/100\n",
      "20/20 [==============================] - 0s 20ms/step - loss: 0.8225 - categorical_accuracy: 0.6973 - val_loss: 0.9628 - val_categorical_accuracy: 0.6090\n",
      "Epoch 8/100\n",
      "20/20 [==============================] - 0s 20ms/step - loss: 0.8477 - categorical_accuracy: 0.6957 - val_loss: 0.9834 - val_categorical_accuracy: 0.6090\n",
      "Epoch 9/100\n",
      "20/20 [==============================] - 0s 21ms/step - loss: 0.8374 - categorical_accuracy: 0.6876 - val_loss: 0.9639 - val_categorical_accuracy: 0.6026\n",
      "Epoch 10/100\n",
      "20/20 [==============================] - 0s 20ms/step - loss: 0.8477 - categorical_accuracy: 0.6940 - val_loss: 0.9693 - val_categorical_accuracy: 0.6026\n",
      "Epoch 11/100\n",
      "20/20 [==============================] - 0s 20ms/step - loss: 0.8376 - categorical_accuracy: 0.6957 - val_loss: 1.0168 - val_categorical_accuracy: 0.6090\n",
      "Epoch 12/100\n",
      "20/20 [==============================] - 0s 21ms/step - loss: 0.8142 - categorical_accuracy: 0.6940 - val_loss: 1.0188 - val_categorical_accuracy: 0.6090\n",
      "Epoch 13/100\n",
      "20/20 [==============================] - 0s 21ms/step - loss: 0.7697 - categorical_accuracy: 0.7101 - val_loss: 0.9912 - val_categorical_accuracy: 0.6090\n",
      "Epoch 14/100\n",
      "20/20 [==============================] - 0s 20ms/step - loss: 0.7489 - categorical_accuracy: 0.7230 - val_loss: 0.9699 - val_categorical_accuracy: 0.6090\n",
      "Epoch 15/100\n",
      "20/20 [==============================] - 0s 21ms/step - loss: 0.7773 - categorical_accuracy: 0.7005 - val_loss: 0.9378 - val_categorical_accuracy: 0.6090\n",
      "Epoch 16/100\n",
      "20/20 [==============================] - 0s 19ms/step - loss: 0.7710 - categorical_accuracy: 0.7166 - val_loss: 0.9752 - val_categorical_accuracy: 0.6090\n",
      "Epoch 17/100\n",
      "20/20 [==============================] - 0s 20ms/step - loss: 0.7069 - categorical_accuracy: 0.7182 - val_loss: 0.9373 - val_categorical_accuracy: 0.6090\n",
      "Epoch 18/100\n",
      "20/20 [==============================] - 0s 21ms/step - loss: 0.7373 - categorical_accuracy: 0.7327 - val_loss: 0.9644 - val_categorical_accuracy: 0.6090\n",
      "Epoch 19/100\n",
      "20/20 [==============================] - 0s 19ms/step - loss: 0.7554 - categorical_accuracy: 0.7262 - val_loss: 0.9426 - val_categorical_accuracy: 0.6090\n",
      "Epoch 20/100\n",
      "20/20 [==============================] - 0s 20ms/step - loss: 0.7663 - categorical_accuracy: 0.7118 - val_loss: 0.9132 - val_categorical_accuracy: 0.6026\n",
      "Epoch 21/100\n",
      "20/20 [==============================] - 0s 20ms/step - loss: 0.7110 - categorical_accuracy: 0.7198 - val_loss: 0.9675 - val_categorical_accuracy: 0.6090\n",
      "Epoch 22/100\n",
      "20/20 [==============================] - 0s 20ms/step - loss: 0.7471 - categorical_accuracy: 0.7246 - val_loss: 0.9574 - val_categorical_accuracy: 0.6090\n",
      "Epoch 23/100\n",
      "20/20 [==============================] - 0s 19ms/step - loss: 0.6814 - categorical_accuracy: 0.7391 - val_loss: 0.9430 - val_categorical_accuracy: 0.6090\n",
      "Epoch 24/100\n",
      "20/20 [==============================] - 0s 21ms/step - loss: 0.7049 - categorical_accuracy: 0.7359 - val_loss: 0.9011 - val_categorical_accuracy: 0.6090\n",
      "Epoch 25/100\n",
      "20/20 [==============================] - 0s 20ms/step - loss: 0.6949 - categorical_accuracy: 0.7311 - val_loss: 0.8974 - val_categorical_accuracy: 0.6090\n",
      "Epoch 26/100\n",
      "20/20 [==============================] - 0s 21ms/step - loss: 0.6635 - categorical_accuracy: 0.7504 - val_loss: 0.9432 - val_categorical_accuracy: 0.6090\n",
      "Epoch 27/100\n",
      "20/20 [==============================] - 0s 21ms/step - loss: 0.6790 - categorical_accuracy: 0.7536 - val_loss: 0.9053 - val_categorical_accuracy: 0.6090\n",
      "Epoch 28/100\n",
      "20/20 [==============================] - 0s 19ms/step - loss: 0.6052 - categorical_accuracy: 0.7729 - val_loss: 0.9207 - val_categorical_accuracy: 0.6090\n",
      "Epoch 29/100\n",
      "20/20 [==============================] - 0s 20ms/step - loss: 0.5847 - categorical_accuracy: 0.7649 - val_loss: 0.8756 - val_categorical_accuracy: 0.6154\n",
      "Epoch 30/100\n",
      "20/20 [==============================] - 0s 21ms/step - loss: 0.5957 - categorical_accuracy: 0.7568 - val_loss: 0.8860 - val_categorical_accuracy: 0.6090\n",
      "Epoch 31/100\n",
      "20/20 [==============================] - 0s 20ms/step - loss: 0.6193 - categorical_accuracy: 0.7488 - val_loss: 0.9363 - val_categorical_accuracy: 0.6090\n",
      "Epoch 32/100\n",
      "20/20 [==============================] - 0s 20ms/step - loss: 0.6137 - categorical_accuracy: 0.7536 - val_loss: 0.9462 - val_categorical_accuracy: 0.5641\n",
      "Epoch 33/100\n",
      "20/20 [==============================] - 0s 20ms/step - loss: 0.5677 - categorical_accuracy: 0.7778 - val_loss: 0.9993 - val_categorical_accuracy: 0.3590\n",
      "Epoch 34/100\n",
      "20/20 [==============================] - 0s 20ms/step - loss: 0.5953 - categorical_accuracy: 0.7778 - val_loss: 0.8984 - val_categorical_accuracy: 0.6346\n",
      "Epoch 35/100\n",
      "20/20 [==============================] - 0s 20ms/step - loss: 0.5385 - categorical_accuracy: 0.7907 - val_loss: 1.2327 - val_categorical_accuracy: 0.2885\n",
      "Epoch 36/100\n",
      "20/20 [==============================] - 0s 21ms/step - loss: 0.5276 - categorical_accuracy: 0.7939 - val_loss: 1.0003 - val_categorical_accuracy: 0.4038\n",
      "Epoch 37/100\n",
      "20/20 [==============================] - 0s 21ms/step - loss: 0.4880 - categorical_accuracy: 0.8132 - val_loss: 0.9899 - val_categorical_accuracy: 0.4615\n",
      "Epoch 38/100\n",
      "20/20 [==============================] - 0s 21ms/step - loss: 0.5678 - categorical_accuracy: 0.7923 - val_loss: 1.0042 - val_categorical_accuracy: 0.4103\n",
      "Epoch 39/100\n",
      "20/20 [==============================] - 0s 21ms/step - loss: 0.5416 - categorical_accuracy: 0.7907 - val_loss: 1.3621 - val_categorical_accuracy: 0.2628\n",
      "Epoch 40/100\n",
      "20/20 [==============================] - 0s 20ms/step - loss: 0.4685 - categorical_accuracy: 0.8341 - val_loss: 1.4031 - val_categorical_accuracy: 0.3269\n",
      "Epoch 41/100\n",
      "20/20 [==============================] - 0s 20ms/step - loss: 0.5126 - categorical_accuracy: 0.8180 - val_loss: 1.2111 - val_categorical_accuracy: 0.3013\n",
      "Epoch 42/100\n",
      "20/20 [==============================] - 0s 21ms/step - loss: 0.4430 - categorical_accuracy: 0.8229 - val_loss: 1.7800 - val_categorical_accuracy: 0.2692\n",
      "Epoch 43/100\n",
      "20/20 [==============================] - 0s 20ms/step - loss: 0.5147 - categorical_accuracy: 0.8148 - val_loss: 1.4976 - val_categorical_accuracy: 0.2949\n",
      "Epoch 44/100\n",
      "20/20 [==============================] - 0s 21ms/step - loss: 0.4599 - categorical_accuracy: 0.8229 - val_loss: 1.5130 - val_categorical_accuracy: 0.3333\n",
      "Epoch 45/100\n",
      "20/20 [==============================] - 0s 21ms/step - loss: 0.4456 - categorical_accuracy: 0.8325 - val_loss: 0.9993 - val_categorical_accuracy: 0.5385\n",
      "Epoch 46/100\n",
      "20/20 [==============================] - 0s 20ms/step - loss: 0.4406 - categorical_accuracy: 0.8438 - val_loss: 1.0685 - val_categorical_accuracy: 0.3269\n",
      "Epoch 47/100\n",
      "20/20 [==============================] - 0s 20ms/step - loss: 0.4226 - categorical_accuracy: 0.8535 - val_loss: 1.2910 - val_categorical_accuracy: 0.2821\n",
      "Epoch 48/100\n",
      "20/20 [==============================] - 0s 21ms/step - loss: 0.4181 - categorical_accuracy: 0.8325 - val_loss: 1.1726 - val_categorical_accuracy: 0.3141\n",
      "Epoch 49/100\n",
      "20/20 [==============================] - 0s 21ms/step - loss: 0.3973 - categorical_accuracy: 0.8583 - val_loss: 1.5824 - val_categorical_accuracy: 0.2628\n",
      "Epoch 50/100\n",
      "20/20 [==============================] - 0s 20ms/step - loss: 0.3154 - categorical_accuracy: 0.8792 - val_loss: 1.3041 - val_categorical_accuracy: 0.3141\n",
      "Epoch 51/100\n",
      "20/20 [==============================] - 0s 21ms/step - loss: 0.3779 - categorical_accuracy: 0.8406 - val_loss: 1.4628 - val_categorical_accuracy: 0.2372\n",
      "Epoch 52/100\n",
      "20/20 [==============================] - 0s 21ms/step - loss: 0.4001 - categorical_accuracy: 0.8438 - val_loss: 2.0217 - val_categorical_accuracy: 0.2628\n",
      "Epoch 53/100\n",
      "20/20 [==============================] - 0s 20ms/step - loss: 0.4308 - categorical_accuracy: 0.8551 - val_loss: 3.0582 - val_categorical_accuracy: 0.2628\n",
      "Epoch 54/100\n",
      "20/20 [==============================] - 0s 21ms/step - loss: 0.4197 - categorical_accuracy: 0.8470 - val_loss: 2.2356 - val_categorical_accuracy: 0.3077\n",
      "Epoch 55/100\n",
      "20/20 [==============================] - 0s 20ms/step - loss: 0.3221 - categorical_accuracy: 0.8841 - val_loss: 3.3226 - val_categorical_accuracy: 0.2628\n",
      "Epoch 56/100\n",
      "20/20 [==============================] - 0s 21ms/step - loss: 0.3105 - categorical_accuracy: 0.8921 - val_loss: 2.2931 - val_categorical_accuracy: 0.3013\n",
      "Epoch 57/100\n",
      "20/20 [==============================] - 0s 20ms/step - loss: 0.3221 - categorical_accuracy: 0.8841 - val_loss: 1.6340 - val_categorical_accuracy: 0.3141\n",
      "Epoch 58/100\n",
      "20/20 [==============================] - 0s 20ms/step - loss: 0.2959 - categorical_accuracy: 0.8808 - val_loss: 2.2186 - val_categorical_accuracy: 0.2756\n",
      "Epoch 59/100\n",
      "20/20 [==============================] - 0s 21ms/step - loss: 0.2879 - categorical_accuracy: 0.8905 - val_loss: 2.7011 - val_categorical_accuracy: 0.2500\n",
      "Epoch 60/100\n",
      "20/20 [==============================] - 0s 20ms/step - loss: 0.3789 - categorical_accuracy: 0.8631 - val_loss: 1.5269 - val_categorical_accuracy: 0.2692\n",
      "Epoch 61/100\n",
      "20/20 [==============================] - 0s 20ms/step - loss: 0.2700 - categorical_accuracy: 0.9066 - val_loss: 2.3610 - val_categorical_accuracy: 0.3013\n",
      "Epoch 62/100\n",
      "20/20 [==============================] - 0s 21ms/step - loss: 0.2504 - categorical_accuracy: 0.9002 - val_loss: 1.6899 - val_categorical_accuracy: 0.2628\n",
      "Epoch 63/100\n",
      "20/20 [==============================] - 0s 20ms/step - loss: 0.2172 - categorical_accuracy: 0.9227 - val_loss: 1.5649 - val_categorical_accuracy: 0.2564\n",
      "Epoch 64/100\n",
      "20/20 [==============================] - 0s 20ms/step - loss: 0.2272 - categorical_accuracy: 0.9211 - val_loss: 1.0911 - val_categorical_accuracy: 0.5962\n",
      "Epoch 65/100\n",
      "20/20 [==============================] - 0s 21ms/step - loss: 0.2629 - categorical_accuracy: 0.9034 - val_loss: 1.3554 - val_categorical_accuracy: 0.3205\n",
      "Epoch 66/100\n",
      "20/20 [==============================] - 0s 20ms/step - loss: 0.2289 - categorical_accuracy: 0.9211 - val_loss: 2.2305 - val_categorical_accuracy: 0.3141\n",
      "Epoch 67/100\n",
      "20/20 [==============================] - 0s 20ms/step - loss: 0.2853 - categorical_accuracy: 0.8986 - val_loss: 1.4776 - val_categorical_accuracy: 0.3013\n",
      "Epoch 68/100\n",
      "20/20 [==============================] - 0s 22ms/step - loss: 0.2619 - categorical_accuracy: 0.8969 - val_loss: 2.3466 - val_categorical_accuracy: 0.2628\n",
      "Epoch 69/100\n",
      "20/20 [==============================] - 0s 20ms/step - loss: 0.2039 - categorical_accuracy: 0.9324 - val_loss: 2.5117 - val_categorical_accuracy: 0.2179\n",
      "Epoch 70/100\n",
      "20/20 [==============================] - 0s 20ms/step - loss: 0.1782 - categorical_accuracy: 0.9227 - val_loss: 3.3783 - val_categorical_accuracy: 0.2628\n",
      "Epoch 71/100\n",
      "20/20 [==============================] - 0s 21ms/step - loss: 0.1738 - categorical_accuracy: 0.9259 - val_loss: 1.6729 - val_categorical_accuracy: 0.2756\n",
      "Epoch 72/100\n",
      "20/20 [==============================] - 0s 20ms/step - loss: 0.2557 - categorical_accuracy: 0.9002 - val_loss: 2.3203 - val_categorical_accuracy: 0.2628\n",
      "Epoch 73/100\n",
      "20/20 [==============================] - 0s 20ms/step - loss: 0.1271 - categorical_accuracy: 0.9581 - val_loss: 1.8816 - val_categorical_accuracy: 0.2821\n",
      "Epoch 74/100\n",
      "20/20 [==============================] - 0s 21ms/step - loss: 0.1129 - categorical_accuracy: 0.9597 - val_loss: 2.0974 - val_categorical_accuracy: 0.2885\n",
      "Epoch 75/100\n",
      "20/20 [==============================] - 0s 20ms/step - loss: 0.1310 - categorical_accuracy: 0.9597 - val_loss: 3.7621 - val_categorical_accuracy: 0.2436\n",
      "Epoch 76/100\n",
      "20/20 [==============================] - 0s 20ms/step - loss: 0.1024 - categorical_accuracy: 0.9565 - val_loss: 3.0550 - val_categorical_accuracy: 0.2949\n",
      "Epoch 77/100\n",
      "20/20 [==============================] - 0s 21ms/step - loss: 0.1599 - categorical_accuracy: 0.9485 - val_loss: 2.4407 - val_categorical_accuracy: 0.3397\n",
      "Epoch 78/100\n",
      "20/20 [==============================] - 0s 20ms/step - loss: 0.2563 - categorical_accuracy: 0.9227 - val_loss: 3.0811 - val_categorical_accuracy: 0.3141\n",
      "Epoch 79/100\n",
      "20/20 [==============================] - 0s 20ms/step - loss: 0.1598 - categorical_accuracy: 0.9436 - val_loss: 2.5925 - val_categorical_accuracy: 0.3077\n",
      "Epoch 80/100\n",
      "20/20 [==============================] - 0s 21ms/step - loss: 0.1584 - categorical_accuracy: 0.9565 - val_loss: 2.3215 - val_categorical_accuracy: 0.2372\n",
      "Epoch 81/100\n",
      "20/20 [==============================] - 0s 20ms/step - loss: 0.1149 - categorical_accuracy: 0.9597 - val_loss: 2.5125 - val_categorical_accuracy: 0.3333\n",
      "Epoch 82/100\n",
      "20/20 [==============================] - 0s 20ms/step - loss: 0.1318 - categorical_accuracy: 0.9517 - val_loss: 2.0826 - val_categorical_accuracy: 0.2949\n",
      "Epoch 83/100\n",
      "20/20 [==============================] - 0s 20ms/step - loss: 0.1420 - categorical_accuracy: 0.9517 - val_loss: 1.7912 - val_categorical_accuracy: 0.2500\n",
      "Epoch 84/100\n",
      "20/20 [==============================] - 0s 20ms/step - loss: 0.1222 - categorical_accuracy: 0.9565 - val_loss: 1.2330 - val_categorical_accuracy: 0.3846\n",
      "Epoch 85/100\n",
      "20/20 [==============================] - 0s 19ms/step - loss: 0.1135 - categorical_accuracy: 0.9597 - val_loss: 1.2637 - val_categorical_accuracy: 0.5000\n",
      "Epoch 86/100\n",
      "20/20 [==============================] - 0s 21ms/step - loss: 0.1125 - categorical_accuracy: 0.9565 - val_loss: 1.1743 - val_categorical_accuracy: 0.5641\n",
      "Epoch 87/100\n",
      "20/20 [==============================] - 0s 20ms/step - loss: 0.0869 - categorical_accuracy: 0.9662 - val_loss: 3.1940 - val_categorical_accuracy: 0.3397\n",
      "Epoch 88/100\n",
      "20/20 [==============================] - 0s 20ms/step - loss: 0.0955 - categorical_accuracy: 0.9710 - val_loss: 3.5139 - val_categorical_accuracy: 0.3269\n",
      "Epoch 89/100\n",
      "20/20 [==============================] - 0s 21ms/step - loss: 0.1562 - categorical_accuracy: 0.9324 - val_loss: 1.3529 - val_categorical_accuracy: 0.3974\n",
      "Epoch 90/100\n",
      "20/20 [==============================] - 0s 20ms/step - loss: 0.1324 - categorical_accuracy: 0.9565 - val_loss: 2.6859 - val_categorical_accuracy: 0.3333\n",
      "Epoch 91/100\n",
      "20/20 [==============================] - 0s 20ms/step - loss: 0.1149 - categorical_accuracy: 0.9565 - val_loss: 4.3243 - val_categorical_accuracy: 0.3077\n",
      "Epoch 92/100\n",
      "20/20 [==============================] - 0s 21ms/step - loss: 0.1626 - categorical_accuracy: 0.9436 - val_loss: 3.3967 - val_categorical_accuracy: 0.2692\n",
      "Epoch 93/100\n",
      "20/20 [==============================] - 0s 20ms/step - loss: 0.0915 - categorical_accuracy: 0.9694 - val_loss: 3.3891 - val_categorical_accuracy: 0.2628\n",
      "Epoch 94/100\n",
      "20/20 [==============================] - 0s 20ms/step - loss: 0.0596 - categorical_accuracy: 0.9855 - val_loss: 3.8793 - val_categorical_accuracy: 0.2436\n",
      "Epoch 95/100\n",
      "20/20 [==============================] - 0s 21ms/step - loss: 0.0697 - categorical_accuracy: 0.9710 - val_loss: 2.9242 - val_categorical_accuracy: 0.2628\n",
      "Epoch 96/100\n",
      "20/20 [==============================] - 0s 20ms/step - loss: 0.0948 - categorical_accuracy: 0.9726 - val_loss: 1.8512 - val_categorical_accuracy: 0.5641\n",
      "Epoch 97/100\n",
      "20/20 [==============================] - 0s 21ms/step - loss: 0.0996 - categorical_accuracy: 0.9742 - val_loss: 2.3748 - val_categorical_accuracy: 0.5577\n",
      "Epoch 98/100\n",
      "20/20 [==============================] - 0s 20ms/step - loss: 0.1492 - categorical_accuracy: 0.9597 - val_loss: 1.7796 - val_categorical_accuracy: 0.5833\n",
      "Epoch 99/100\n",
      "20/20 [==============================] - 0s 21ms/step - loss: 0.1623 - categorical_accuracy: 0.9452 - val_loss: 1.6236 - val_categorical_accuracy: 0.5705\n",
      "Epoch 100/100\n",
      "20/20 [==============================] - 0s 21ms/step - loss: 0.1143 - categorical_accuracy: 0.9662 - val_loss: 1.4435 - val_categorical_accuracy: 0.5064\n"
     ]
    }
   ],
   "source": [
    "model = buildModel(X.shape[1:])\n",
    "history = model.fit(x=X_train,\n",
    "                    y=y_train,\n",
    "                    batch_size=BATCH_SIZE,\n",
    "                    epochs=100,\n",
    "                    validation_data=(X_test,y_test))"
   ]
  },
  {
   "cell_type": "code",
   "execution_count": 126,
   "metadata": {},
   "outputs": [],
   "source": [
    "model = tf.keras.models.load_model('./model/LickingPark')"
   ]
  },
  {
   "cell_type": "code",
   "execution_count": 141,
   "metadata": {},
   "outputs": [
    {
     "name": "stdout",
     "output_type": "stream",
     "text": [
      "25/25 [==============================] - 0s 5ms/step\n"
     ]
    }
   ],
   "source": [
    "res = model.predict(X)"
   ]
  },
  {
   "cell_type": "code",
   "execution_count": 126,
   "metadata": {},
   "outputs": [
    {
     "data": {
      "text/plain": [
       "undefined action    526\n",
       "left                131\n",
       "right               120\n",
       "dtype: int64"
      ]
     },
     "execution_count": 126,
     "metadata": {},
     "output_type": "execute_result"
    }
   ],
   "source": [
    "pd.DataFrame([reverse_label_dict[np.argmax(x)] for x in y]).value_counts()"
   ]
  },
  {
   "cell_type": "code",
   "execution_count": 142,
   "metadata": {},
   "outputs": [
    {
     "data": {
      "text/plain": [
       "undefined action    503\n",
       "left                157\n",
       "right               117\n",
       "dtype: int64"
      ]
     },
     "execution_count": 142,
     "metadata": {},
     "output_type": "execute_result"
    }
   ],
   "source": [
    "pd.DataFrame([reverse_label_dict[np.argmax(x)] for x in res]).value_counts()"
   ]
  },
  {
   "cell_type": "code",
   "execution_count": 47,
   "metadata": {},
   "outputs": [],
   "source": [
    "model.save(\"./model/LickingPark\", save_format=\"tf\")"
   ]
  },
  {
   "cell_type": "code",
   "execution_count": 145,
   "metadata": {},
   "outputs": [
    {
     "data": {
      "application/vnd.plotly.v1+json": {
       "config": {
        "plotlyServerURL": "https://plot.ly"
       },
       "data": [
        {
         "hovertemplate": "variable=loss<br>index=%{x}<br>value=%{y}<extra></extra>",
         "legendgroup": "loss",
         "line": {
          "color": "#636efa",
          "dash": "solid"
         },
         "marker": {
          "symbol": "circle"
         },
         "mode": "lines",
         "name": "loss",
         "orientation": "v",
         "showlegend": true,
         "type": "scatter",
         "x": [
          0,
          1,
          2,
          3,
          4,
          5,
          6,
          7,
          8,
          9,
          10,
          11,
          12,
          13,
          14,
          15,
          16,
          17,
          18,
          19,
          20,
          21,
          22,
          23,
          24,
          25,
          26,
          27,
          28,
          29,
          30,
          31,
          32,
          33,
          34,
          35,
          36,
          37,
          38,
          39,
          40,
          41,
          42,
          43,
          44,
          45,
          46,
          47,
          48,
          49,
          50,
          51,
          52,
          53,
          54,
          55,
          56,
          57,
          58,
          59,
          60,
          61,
          62,
          63,
          64,
          65,
          66,
          67,
          68,
          69,
          70,
          71,
          72,
          73,
          74,
          75,
          76,
          77,
          78,
          79,
          80,
          81,
          82,
          83,
          84,
          85,
          86,
          87,
          88,
          89,
          90,
          91,
          92,
          93,
          94,
          95,
          96,
          97,
          98,
          99
         ],
         "xaxis": "x",
         "y": [
          3.657640218734741,
          2.043578863143921,
          1.2051080465316772,
          1.0360368490219116,
          0.8973917365074158,
          0.9284719228744507,
          0.822457492351532,
          0.8476939797401428,
          0.837425947189331,
          0.847697913646698,
          0.837573766708374,
          0.8142282366752625,
          0.7696680426597595,
          0.748896062374115,
          0.7772883176803589,
          0.7710244059562683,
          0.7069321870803833,
          0.7373219728469849,
          0.7554481625556946,
          0.7662697434425354,
          0.7109752297401428,
          0.7471466064453125,
          0.6813756227493286,
          0.7048752903938293,
          0.6948752999305725,
          0.6634719967842102,
          0.6789720058441162,
          0.6052147746086121,
          0.5846692323684692,
          0.5957290530204773,
          0.6193041801452637,
          0.6136916875839233,
          0.5676690340042114,
          0.5952754020690918,
          0.5385026931762695,
          0.5276103019714355,
          0.4880390763282776,
          0.567816436290741,
          0.5415849089622498,
          0.4684544503688812,
          0.5126221776008606,
          0.4430393576622009,
          0.514734148979187,
          0.45986974239349365,
          0.4455939829349518,
          0.44055235385894775,
          0.4225783348083496,
          0.4180835485458374,
          0.3973182141780853,
          0.3153941035270691,
          0.3778848648071289,
          0.40014058351516724,
          0.4307662844657898,
          0.4197227358818054,
          0.3221260607242584,
          0.3105456829071045,
          0.32211169600486755,
          0.29587289690971375,
          0.28793811798095703,
          0.37894970178604126,
          0.2699560523033142,
          0.2503982484340668,
          0.21715478599071503,
          0.22720488905906677,
          0.26288676261901855,
          0.22886748611927032,
          0.2852659225463867,
          0.2619352638721466,
          0.20389339327812195,
          0.1782454550266266,
          0.173782616853714,
          0.2556651532649994,
          0.12712551653385162,
          0.11291877180337906,
          0.1310376226902008,
          0.10235674679279327,
          0.15986257791519165,
          0.2562900483608246,
          0.15975171327590942,
          0.1584319770336151,
          0.11488855630159378,
          0.13181938230991364,
          0.1419811099767685,
          0.12224164605140686,
          0.1135077029466629,
          0.11246431618928909,
          0.08693467825651169,
          0.0954827070236206,
          0.15615250170230865,
          0.1324419379234314,
          0.11493408679962158,
          0.16261930763721466,
          0.09148737043142319,
          0.0595666877925396,
          0.06968438625335693,
          0.09480143338441849,
          0.09960782527923584,
          0.14920896291732788,
          0.16230781376361847,
          0.11426589637994766
         ],
         "yaxis": "y"
        },
        {
         "hovertemplate": "variable=val_loss<br>index=%{x}<br>value=%{y}<extra></extra>",
         "legendgroup": "val_loss",
         "line": {
          "color": "#EF553B",
          "dash": "solid"
         },
         "marker": {
          "symbol": "circle"
         },
         "mode": "lines",
         "name": "val_loss",
         "orientation": "v",
         "showlegend": true,
         "type": "scatter",
         "x": [
          0,
          1,
          2,
          3,
          4,
          5,
          6,
          7,
          8,
          9,
          10,
          11,
          12,
          13,
          14,
          15,
          16,
          17,
          18,
          19,
          20,
          21,
          22,
          23,
          24,
          25,
          26,
          27,
          28,
          29,
          30,
          31,
          32,
          33,
          34,
          35,
          36,
          37,
          38,
          39,
          40,
          41,
          42,
          43,
          44,
          45,
          46,
          47,
          48,
          49,
          50,
          51,
          52,
          53,
          54,
          55,
          56,
          57,
          58,
          59,
          60,
          61,
          62,
          63,
          64,
          65,
          66,
          67,
          68,
          69,
          70,
          71,
          72,
          73,
          74,
          75,
          76,
          77,
          78,
          79,
          80,
          81,
          82,
          83,
          84,
          85,
          86,
          87,
          88,
          89,
          90,
          91,
          92,
          93,
          94,
          95,
          96,
          97,
          98,
          99
         ],
         "xaxis": "x",
         "y": [
          4.467523097991943,
          1.180814266204834,
          0.9471153616905212,
          0.9762620329856873,
          0.9884815812110901,
          0.9362605214118958,
          0.9628280401229858,
          0.9834359884262085,
          0.9639047384262085,
          0.9693259000778198,
          1.016751766204834,
          1.0187925100326538,
          0.9912484884262085,
          0.9699143767356873,
          0.9377879500389099,
          0.9752354025840759,
          0.9373247027397156,
          0.9644180536270142,
          0.9426457285881042,
          0.9132362008094788,
          0.9675105214118958,
          0.9574068784713745,
          0.9430463910102844,
          0.9010667204856873,
          0.8973733186721802,
          0.9431840777397156,
          0.9053360223770142,
          0.9206605553627014,
          0.8755759000778198,
          0.8860426545143127,
          0.9363105893135071,
          0.9461889266967773,
          0.9993113875389099,
          0.8983999490737915,
          1.2327474355697632,
          1.0003255605697632,
          0.9898838400840759,
          1.0042192935943604,
          1.3620542287826538,
          1.4030698537826538,
          1.211087703704834,
          1.780048131942749,
          1.4975961446762085,
          1.5129958391189575,
          0.9993489384651184,
          1.0684845447540283,
          1.291015625,
          1.172626256942749,
          1.5823818445205688,
          1.3041115999221802,
          1.462815523147583,
          2.0217347145080566,
          3.0581932067871094,
          2.2356269359588623,
          3.322566032409668,
          2.2930688858032227,
          1.6340395212173462,
          2.218599796295166,
          2.7010717391967773,
          1.5268679857254028,
          2.3609776496887207,
          1.6898537874221802,
          1.5648788213729858,
          1.0911208391189575,
          1.3554186820983887,
          2.23046875,
          1.477614164352417,
          2.3465545177459717,
          2.5116686820983887,
          3.378305196762085,
          1.6728515625,
          2.3203125,
          1.881610631942749,
          2.0973808765411377,
          3.7621192932128906,
          3.0550379753112793,
          2.440654993057251,
          3.0810797214508057,
          2.592548131942749,
          2.3214643001556396,
          2.5125200748443604,
          2.082632303237915,
          1.7912158966064453,
          1.2329977750778198,
          1.2637094259262085,
          1.1742788553237915,
          3.193960428237915,
          3.5139222145080566,
          1.3529397249221802,
          2.6858973503112793,
          4.324318885803223,
          3.3966846466064453,
          3.389122486114502,
          3.8793067932128906,
          2.9242286682128906,
          1.8512369394302368,
          2.374774694442749,
          1.7796224355697632,
          1.6235727071762085,
          1.4435220956802368
         ],
         "yaxis": "y"
        }
       ],
       "layout": {
        "legend": {
         "title": {
          "text": "variable"
         },
         "tracegroupgap": 0
        },
        "margin": {
         "t": 60
        },
        "template": {
         "data": {
          "bar": [
           {
            "error_x": {
             "color": "#2a3f5f"
            },
            "error_y": {
             "color": "#2a3f5f"
            },
            "marker": {
             "line": {
              "color": "#E5ECF6",
              "width": 0.5
             },
             "pattern": {
              "fillmode": "overlay",
              "size": 10,
              "solidity": 0.2
             }
            },
            "type": "bar"
           }
          ],
          "barpolar": [
           {
            "marker": {
             "line": {
              "color": "#E5ECF6",
              "width": 0.5
             },
             "pattern": {
              "fillmode": "overlay",
              "size": 10,
              "solidity": 0.2
             }
            },
            "type": "barpolar"
           }
          ],
          "carpet": [
           {
            "aaxis": {
             "endlinecolor": "#2a3f5f",
             "gridcolor": "white",
             "linecolor": "white",
             "minorgridcolor": "white",
             "startlinecolor": "#2a3f5f"
            },
            "baxis": {
             "endlinecolor": "#2a3f5f",
             "gridcolor": "white",
             "linecolor": "white",
             "minorgridcolor": "white",
             "startlinecolor": "#2a3f5f"
            },
            "type": "carpet"
           }
          ],
          "choropleth": [
           {
            "colorbar": {
             "outlinewidth": 0,
             "ticks": ""
            },
            "type": "choropleth"
           }
          ],
          "contour": [
           {
            "colorbar": {
             "outlinewidth": 0,
             "ticks": ""
            },
            "colorscale": [
             [
              0,
              "#0d0887"
             ],
             [
              0.1111111111111111,
              "#46039f"
             ],
             [
              0.2222222222222222,
              "#7201a8"
             ],
             [
              0.3333333333333333,
              "#9c179e"
             ],
             [
              0.4444444444444444,
              "#bd3786"
             ],
             [
              0.5555555555555556,
              "#d8576b"
             ],
             [
              0.6666666666666666,
              "#ed7953"
             ],
             [
              0.7777777777777778,
              "#fb9f3a"
             ],
             [
              0.8888888888888888,
              "#fdca26"
             ],
             [
              1,
              "#f0f921"
             ]
            ],
            "type": "contour"
           }
          ],
          "contourcarpet": [
           {
            "colorbar": {
             "outlinewidth": 0,
             "ticks": ""
            },
            "type": "contourcarpet"
           }
          ],
          "heatmap": [
           {
            "colorbar": {
             "outlinewidth": 0,
             "ticks": ""
            },
            "colorscale": [
             [
              0,
              "#0d0887"
             ],
             [
              0.1111111111111111,
              "#46039f"
             ],
             [
              0.2222222222222222,
              "#7201a8"
             ],
             [
              0.3333333333333333,
              "#9c179e"
             ],
             [
              0.4444444444444444,
              "#bd3786"
             ],
             [
              0.5555555555555556,
              "#d8576b"
             ],
             [
              0.6666666666666666,
              "#ed7953"
             ],
             [
              0.7777777777777778,
              "#fb9f3a"
             ],
             [
              0.8888888888888888,
              "#fdca26"
             ],
             [
              1,
              "#f0f921"
             ]
            ],
            "type": "heatmap"
           }
          ],
          "heatmapgl": [
           {
            "colorbar": {
             "outlinewidth": 0,
             "ticks": ""
            },
            "colorscale": [
             [
              0,
              "#0d0887"
             ],
             [
              0.1111111111111111,
              "#46039f"
             ],
             [
              0.2222222222222222,
              "#7201a8"
             ],
             [
              0.3333333333333333,
              "#9c179e"
             ],
             [
              0.4444444444444444,
              "#bd3786"
             ],
             [
              0.5555555555555556,
              "#d8576b"
             ],
             [
              0.6666666666666666,
              "#ed7953"
             ],
             [
              0.7777777777777778,
              "#fb9f3a"
             ],
             [
              0.8888888888888888,
              "#fdca26"
             ],
             [
              1,
              "#f0f921"
             ]
            ],
            "type": "heatmapgl"
           }
          ],
          "histogram": [
           {
            "marker": {
             "pattern": {
              "fillmode": "overlay",
              "size": 10,
              "solidity": 0.2
             }
            },
            "type": "histogram"
           }
          ],
          "histogram2d": [
           {
            "colorbar": {
             "outlinewidth": 0,
             "ticks": ""
            },
            "colorscale": [
             [
              0,
              "#0d0887"
             ],
             [
              0.1111111111111111,
              "#46039f"
             ],
             [
              0.2222222222222222,
              "#7201a8"
             ],
             [
              0.3333333333333333,
              "#9c179e"
             ],
             [
              0.4444444444444444,
              "#bd3786"
             ],
             [
              0.5555555555555556,
              "#d8576b"
             ],
             [
              0.6666666666666666,
              "#ed7953"
             ],
             [
              0.7777777777777778,
              "#fb9f3a"
             ],
             [
              0.8888888888888888,
              "#fdca26"
             ],
             [
              1,
              "#f0f921"
             ]
            ],
            "type": "histogram2d"
           }
          ],
          "histogram2dcontour": [
           {
            "colorbar": {
             "outlinewidth": 0,
             "ticks": ""
            },
            "colorscale": [
             [
              0,
              "#0d0887"
             ],
             [
              0.1111111111111111,
              "#46039f"
             ],
             [
              0.2222222222222222,
              "#7201a8"
             ],
             [
              0.3333333333333333,
              "#9c179e"
             ],
             [
              0.4444444444444444,
              "#bd3786"
             ],
             [
              0.5555555555555556,
              "#d8576b"
             ],
             [
              0.6666666666666666,
              "#ed7953"
             ],
             [
              0.7777777777777778,
              "#fb9f3a"
             ],
             [
              0.8888888888888888,
              "#fdca26"
             ],
             [
              1,
              "#f0f921"
             ]
            ],
            "type": "histogram2dcontour"
           }
          ],
          "mesh3d": [
           {
            "colorbar": {
             "outlinewidth": 0,
             "ticks": ""
            },
            "type": "mesh3d"
           }
          ],
          "parcoords": [
           {
            "line": {
             "colorbar": {
              "outlinewidth": 0,
              "ticks": ""
             }
            },
            "type": "parcoords"
           }
          ],
          "pie": [
           {
            "automargin": true,
            "type": "pie"
           }
          ],
          "scatter": [
           {
            "fillpattern": {
             "fillmode": "overlay",
             "size": 10,
             "solidity": 0.2
            },
            "type": "scatter"
           }
          ],
          "scatter3d": [
           {
            "line": {
             "colorbar": {
              "outlinewidth": 0,
              "ticks": ""
             }
            },
            "marker": {
             "colorbar": {
              "outlinewidth": 0,
              "ticks": ""
             }
            },
            "type": "scatter3d"
           }
          ],
          "scattercarpet": [
           {
            "marker": {
             "colorbar": {
              "outlinewidth": 0,
              "ticks": ""
             }
            },
            "type": "scattercarpet"
           }
          ],
          "scattergeo": [
           {
            "marker": {
             "colorbar": {
              "outlinewidth": 0,
              "ticks": ""
             }
            },
            "type": "scattergeo"
           }
          ],
          "scattergl": [
           {
            "marker": {
             "colorbar": {
              "outlinewidth": 0,
              "ticks": ""
             }
            },
            "type": "scattergl"
           }
          ],
          "scattermapbox": [
           {
            "marker": {
             "colorbar": {
              "outlinewidth": 0,
              "ticks": ""
             }
            },
            "type": "scattermapbox"
           }
          ],
          "scatterpolar": [
           {
            "marker": {
             "colorbar": {
              "outlinewidth": 0,
              "ticks": ""
             }
            },
            "type": "scatterpolar"
           }
          ],
          "scatterpolargl": [
           {
            "marker": {
             "colorbar": {
              "outlinewidth": 0,
              "ticks": ""
             }
            },
            "type": "scatterpolargl"
           }
          ],
          "scatterternary": [
           {
            "marker": {
             "colorbar": {
              "outlinewidth": 0,
              "ticks": ""
             }
            },
            "type": "scatterternary"
           }
          ],
          "surface": [
           {
            "colorbar": {
             "outlinewidth": 0,
             "ticks": ""
            },
            "colorscale": [
             [
              0,
              "#0d0887"
             ],
             [
              0.1111111111111111,
              "#46039f"
             ],
             [
              0.2222222222222222,
              "#7201a8"
             ],
             [
              0.3333333333333333,
              "#9c179e"
             ],
             [
              0.4444444444444444,
              "#bd3786"
             ],
             [
              0.5555555555555556,
              "#d8576b"
             ],
             [
              0.6666666666666666,
              "#ed7953"
             ],
             [
              0.7777777777777778,
              "#fb9f3a"
             ],
             [
              0.8888888888888888,
              "#fdca26"
             ],
             [
              1,
              "#f0f921"
             ]
            ],
            "type": "surface"
           }
          ],
          "table": [
           {
            "cells": {
             "fill": {
              "color": "#EBF0F8"
             },
             "line": {
              "color": "white"
             }
            },
            "header": {
             "fill": {
              "color": "#C8D4E3"
             },
             "line": {
              "color": "white"
             }
            },
            "type": "table"
           }
          ]
         },
         "layout": {
          "annotationdefaults": {
           "arrowcolor": "#2a3f5f",
           "arrowhead": 0,
           "arrowwidth": 1
          },
          "autotypenumbers": "strict",
          "coloraxis": {
           "colorbar": {
            "outlinewidth": 0,
            "ticks": ""
           }
          },
          "colorscale": {
           "diverging": [
            [
             0,
             "#8e0152"
            ],
            [
             0.1,
             "#c51b7d"
            ],
            [
             0.2,
             "#de77ae"
            ],
            [
             0.3,
             "#f1b6da"
            ],
            [
             0.4,
             "#fde0ef"
            ],
            [
             0.5,
             "#f7f7f7"
            ],
            [
             0.6,
             "#e6f5d0"
            ],
            [
             0.7,
             "#b8e186"
            ],
            [
             0.8,
             "#7fbc41"
            ],
            [
             0.9,
             "#4d9221"
            ],
            [
             1,
             "#276419"
            ]
           ],
           "sequential": [
            [
             0,
             "#0d0887"
            ],
            [
             0.1111111111111111,
             "#46039f"
            ],
            [
             0.2222222222222222,
             "#7201a8"
            ],
            [
             0.3333333333333333,
             "#9c179e"
            ],
            [
             0.4444444444444444,
             "#bd3786"
            ],
            [
             0.5555555555555556,
             "#d8576b"
            ],
            [
             0.6666666666666666,
             "#ed7953"
            ],
            [
             0.7777777777777778,
             "#fb9f3a"
            ],
            [
             0.8888888888888888,
             "#fdca26"
            ],
            [
             1,
             "#f0f921"
            ]
           ],
           "sequentialminus": [
            [
             0,
             "#0d0887"
            ],
            [
             0.1111111111111111,
             "#46039f"
            ],
            [
             0.2222222222222222,
             "#7201a8"
            ],
            [
             0.3333333333333333,
             "#9c179e"
            ],
            [
             0.4444444444444444,
             "#bd3786"
            ],
            [
             0.5555555555555556,
             "#d8576b"
            ],
            [
             0.6666666666666666,
             "#ed7953"
            ],
            [
             0.7777777777777778,
             "#fb9f3a"
            ],
            [
             0.8888888888888888,
             "#fdca26"
            ],
            [
             1,
             "#f0f921"
            ]
           ]
          },
          "colorway": [
           "#636efa",
           "#EF553B",
           "#00cc96",
           "#ab63fa",
           "#FFA15A",
           "#19d3f3",
           "#FF6692",
           "#B6E880",
           "#FF97FF",
           "#FECB52"
          ],
          "font": {
           "color": "#2a3f5f"
          },
          "geo": {
           "bgcolor": "white",
           "lakecolor": "white",
           "landcolor": "#E5ECF6",
           "showlakes": true,
           "showland": true,
           "subunitcolor": "white"
          },
          "hoverlabel": {
           "align": "left"
          },
          "hovermode": "closest",
          "mapbox": {
           "style": "light"
          },
          "paper_bgcolor": "white",
          "plot_bgcolor": "#E5ECF6",
          "polar": {
           "angularaxis": {
            "gridcolor": "white",
            "linecolor": "white",
            "ticks": ""
           },
           "bgcolor": "#E5ECF6",
           "radialaxis": {
            "gridcolor": "white",
            "linecolor": "white",
            "ticks": ""
           }
          },
          "scene": {
           "xaxis": {
            "backgroundcolor": "#E5ECF6",
            "gridcolor": "white",
            "gridwidth": 2,
            "linecolor": "white",
            "showbackground": true,
            "ticks": "",
            "zerolinecolor": "white"
           },
           "yaxis": {
            "backgroundcolor": "#E5ECF6",
            "gridcolor": "white",
            "gridwidth": 2,
            "linecolor": "white",
            "showbackground": true,
            "ticks": "",
            "zerolinecolor": "white"
           },
           "zaxis": {
            "backgroundcolor": "#E5ECF6",
            "gridcolor": "white",
            "gridwidth": 2,
            "linecolor": "white",
            "showbackground": true,
            "ticks": "",
            "zerolinecolor": "white"
           }
          },
          "shapedefaults": {
           "line": {
            "color": "#2a3f5f"
           }
          },
          "ternary": {
           "aaxis": {
            "gridcolor": "white",
            "linecolor": "white",
            "ticks": ""
           },
           "baxis": {
            "gridcolor": "white",
            "linecolor": "white",
            "ticks": ""
           },
           "bgcolor": "#E5ECF6",
           "caxis": {
            "gridcolor": "white",
            "linecolor": "white",
            "ticks": ""
           }
          },
          "title": {
           "x": 0.05
          },
          "xaxis": {
           "automargin": true,
           "gridcolor": "white",
           "linecolor": "white",
           "ticks": "",
           "title": {
            "standoff": 15
           },
           "zerolinecolor": "white",
           "zerolinewidth": 2
          },
          "yaxis": {
           "automargin": true,
           "gridcolor": "white",
           "linecolor": "white",
           "ticks": "",
           "title": {
            "standoff": 15
           },
           "zerolinecolor": "white",
           "zerolinewidth": 2
          }
         }
        },
        "xaxis": {
         "anchor": "y",
         "domain": [
          0,
          1
         ],
         "title": {
          "text": "index"
         }
        },
        "yaxis": {
         "anchor": "x",
         "domain": [
          0,
          1
         ],
         "title": {
          "text": "value"
         }
        }
       }
      }
     },
     "metadata": {},
     "output_type": "display_data"
    }
   ],
   "source": [
    "f1 = np.array(history.history['loss']).flatten()\n",
    "valf1 = np.array(history.history['val_loss']).flatten()\n",
    "px.line(pd.DataFrame(np.array([f1, valf1]).T, columns=['loss', 'val_loss'])).show()"
   ]
  }
 ],
 "metadata": {
  "kernelspec": {
   "display_name": "Python 3.10.7 64-bit",
   "language": "python",
   "name": "python3"
  },
  "language_info": {
   "codemirror_mode": {
    "name": "ipython",
    "version": 3
   },
   "file_extension": ".py",
   "mimetype": "text/x-python",
   "name": "python",
   "nbconvert_exporter": "python",
   "pygments_lexer": "ipython3",
   "version": "3.10.7 (tags/v3.10.7:6cc6b13, Sep  5 2022, 14:08:36) [MSC v.1933 64 bit (AMD64)]"
  },
  "orig_nbformat": 4,
  "vscode": {
   "interpreter": {
    "hash": "369f2c481f4da34e4445cda3fffd2e751bd1c4d706f27375911949ba6bb62e1c"
   }
  }
 },
 "nbformat": 4,
 "nbformat_minor": 2
}

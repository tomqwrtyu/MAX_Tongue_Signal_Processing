{
 "cells": [
  {
   "cell_type": "code",
   "execution_count": 1,
   "metadata": {
    "scrolled": true
   },
   "outputs": [],
   "source": [
    "import pandas as pd\n",
    "import numpy as np\n",
    "from glob import glob\n",
    "import tensorflow as tf\n",
    "from sklearn.model_selection import train_test_split\n",
    "import plotly.express as px\n",
    "import emd\n",
    "tf.keras.mixed_precision.set_global_policy('mixed_float16')\n",
    "\n",
    "tf.keras.layers.MultiHeadAttention\n",
    "\n",
    "BATCH_SIZE = 32\n",
    "CHANNEL_NUMBER = 3\n",
    "WINDOW_SIZE = 200\n",
    "SLIDING_STEP = int(WINDOW_SIZE * 0.4)\n",
    "KEY_CLASS = {0:'undefined action', 1:'up', 2:'down', 3:'left', 4:'right', 5:'quick touch'}\n",
    "CLASS_NUMBER = 5 # 0 is not a class\n",
    "NUM_IMF = 3\n",
    "LABEL_THRESHOLD = 0.65\n",
    "BELIEF_THRESHOLD = 0.7\n",
    "INITIAL_PULSE = 100 # abandon initial pulse data\n",
    "\n",
    "if CLASS_NUMBER < 2:\n",
    "    CLASS_NUMBER = 2"
   ]
  },
  {
   "cell_type": "code",
   "execution_count": 3,
   "metadata": {},
   "outputs": [],
   "source": [
    "def slicing(x, y):\n",
    "    totalLength = x.shape[0]\n",
    "    assert totalLength == y.shape[0], \"Data numbers not matching with that of labels.\"\n",
    "    if totalLength <= WINDOW_SIZE:\n",
    "        return x, y\n",
    "\n",
    "    y = one_hot(y)\n",
    "    \n",
    "    thresholdWindow = LABEL_THRESHOLD * WINDOW_SIZE\n",
    "    retx = None\n",
    "    rety = None\n",
    "    retUnknown = None\n",
    "    \n",
    "    i = 0\n",
    "    while (totalLength - i) > WINDOW_SIZE:\n",
    "        new = (x[i:(i + WINDOW_SIZE), :])[np.newaxis, :]\n",
    "        \n",
    "        classSum = np.sum(y[i:(i + WINDOW_SIZE)], axis = 0)\n",
    "        maxIdx = np.argmax(classSum)\n",
    "        if classSum[maxIdx] > thresholdWindow:\n",
    "            if not isinstance(retx, np.ndarray):\n",
    "                retx = new.copy()\n",
    "                rety = [maxIdx + 1]\n",
    "            else:\n",
    "                retx = np.concatenate([retx, new], axis=0)\n",
    "                rety.append(maxIdx + 1)\n",
    "        else:\n",
    "            if not isinstance(retUnknown, np.ndarray):\n",
    "                retUnknown = new.copy()\n",
    "            else:\n",
    "                retUnknown = np.concatenate([retUnknown, new], axis=0)\n",
    "\n",
    "        i += SLIDING_STEP\n",
    "        \n",
    "    return np.transpose(retx, (0, 2, 1)), one_hot(rety), np.transpose(retUnknown, (0, 2, 1))\n",
    "\n",
    "def one_hot(arr):\n",
    "    ret = []\n",
    "    for val in arr:\n",
    "        tmp = [0] * CLASS_NUMBER\n",
    "        if val > 0:\n",
    "            tmp[val - 1] = 1\n",
    "        ret.append(np.array(tmp))\n",
    "        \n",
    "    return np.array(ret)    \n",
    "\n",
    "def emdSignal(sig):\n",
    "    dataNumber = sig.shape[0]\n",
    "    ret = None\n",
    "    \n",
    "    for i in range(dataNumber):\n",
    "        temp = None\n",
    "        \n",
    "        for c in range(CHANNEL_NUMBER):\n",
    "            raw = sig[i, c, :]\n",
    "            imf = emd.sift.sift(raw, max_imfs=NUM_IMF, imf_opts={'sd_thresh': 0.1})\n",
    "            \n",
    "            if imf.shape[-1] < NUM_IMF:\n",
    "                compensate = np.zeros((WINDOW_SIZE, NUM_IMF - imf.shape[-1]))\n",
    "                imf = np.concatenate([imf, compensate], axis = 1)\n",
    "            \n",
    "            if not type(temp) == np.ndarray: \n",
    "                temp = imf\n",
    "            else: \n",
    "                temp = np.concatenate([temp, imf], axis = 1)\n",
    "            \n",
    "        if type(temp) == np.ndarray: \n",
    "            if not type(ret) == np.ndarray: \n",
    "                ret = temp[np.newaxis, :]\n",
    "            else: \n",
    "                ret = np.concatenate([ret, temp[np.newaxis, :]], axis = 0)\n",
    "                \n",
    "    return ret\n",
    "\n",
    "def buildModel(shape):\n",
    "    model = tf.keras.Sequential([\n",
    "        tf.keras.layers.Input(shape = shape),\n",
    "        tf.keras.layers.Conv1D(int(WINDOW_SIZE * 0.4 // 3), int(WINDOW_SIZE * 0.5 // 3), padding='same', activation='elu'),\n",
    "        tf.keras.layers.BatchNormalization(),\n",
    "        tf.keras.layers.MaxPool1D(padding='same'),\n",
    "        tf.keras.layers.Dropout(0.2),\n",
    "        tf.keras.layers.Conv1D(int(WINDOW_SIZE * 0.5 // 3), int(WINDOW_SIZE * 0.6 // 3), padding='same', activation='elu'),\n",
    "        tf.keras.layers.BatchNormalization(),\n",
    "        tf.keras.layers.MaxPool1D(padding='same'),\n",
    "        tf.keras.layers.Dropout(0.2),\n",
    "        tf.keras.layers.Conv1D(int(WINDOW_SIZE * 0.6 // 3), int(WINDOW_SIZE / 1.2 * 0.7 // 3), padding='same', activation='elu'),\n",
    "        tf.keras.layers.BatchNormalization(),\n",
    "        tf.keras.layers.MaxPool1D(padding='same'),\n",
    "        tf.keras.layers.Dropout(0.05),\n",
    "        tf.keras.layers.Flatten(),\n",
    "        tf.keras.layers.Dense((WINDOW_SIZE // 100) * 256, activation='elu'),\n",
    "        tf.keras.layers.Dense(CLASS_NUMBER, activation='softmax')]\n",
    "    )\n",
    "    model.compile(optimizer='adam',\n",
    "                loss=tf.keras.losses.CategoricalCrossentropy(),\n",
    "                metrics=[tf.keras.metrics.CategoricalAccuracy()])\n",
    "                        #  tf.keras.metrics.Precision(thresholds = 0.5),\n",
    "                        #  tf.keras.metrics.Recall(thresholds= 0.5)])\n",
    "    return model"
   ]
  },
  {
   "cell_type": "code",
   "execution_count": 11,
   "metadata": {},
   "outputs": [
    {
     "name": "stdout",
     "output_type": "stream",
     "text": [
      "Number of X: 2188, unknown X: 2357\n"
     ]
    }
   ],
   "source": [
    "#Load, preprocess and split record files\n",
    "trainSignalFiles = glob(\".\\\\data\\\\*_record_X.npy\")\n",
    "trainLabelFiles = [x.replace('X', 'y') for x in trainSignalFiles]\n",
    "\n",
    "numX = 0\n",
    "numUX = 0\n",
    "sigPLot = None\n",
    "trainSignal, trainLabel, unknownActions = [], [], []\n",
    "for sfp, lfp in zip(trainSignalFiles, trainLabelFiles):\n",
    "    tempSig = np.load(sfp)[INITIAL_PULSE:]\n",
    "    tempLbl = np.load(lfp)[INITIAL_PULSE:]\n",
    "    sigPLot = tempSig if not isinstance(sigPLot, np.ndarray) else np.concatenate([sigPLot, tempSig], axis=0)\n",
    "    X, y, X_unknown = slicing(tempSig, tempLbl)\n",
    "    trainSignal.append(X)\n",
    "    trainLabel.append(y)\n",
    "    unknownActions.append(X_unknown)\n",
    "    numX += X.shape[0]\n",
    "    numUX += X_unknown.shape[0]\n",
    "\n",
    "print(\"Number of X: {}, unknown X: {}\".format(numX, numUX))"
   ]
  },
  {
   "cell_type": "code",
   "execution_count": null,
   "metadata": {},
   "outputs": [],
   "source": [
    "px.line(sigPLot)"
   ]
  },
  {
   "cell_type": "code",
   "execution_count": 12,
   "metadata": {},
   "outputs": [
    {
     "name": "stdout",
     "output_type": "stream",
     "text": [
      "(2084, 3, 250) (527, 3, 250) (91, 3, 250)\n"
     ]
    }
   ],
   "source": [
    "X_train = None\n",
    "X_test = None\n",
    "y_train = None\n",
    "y_test = None\n",
    "for x, y, u in zip(trainSignal, trainLabel, unknownActions):\n",
    "    if x.shape[0] // CLASS_NUMBER < u.shape[0]:\n",
    "        X_unknown_add = u[np.random.choice(u.shape[0], size = int(x.shape[0] // CLASS_NUMBER), replace = False)]\n",
    "        y_unknown_add = (np.random.rand(int(x.shape[0] // CLASS_NUMBER), CLASS_NUMBER) * 0.1 + 0.15)\n",
    "    else:\n",
    "        X_unknown_add = u\n",
    "        y_unknown_add = (np.random.rand(u.shape[0], CLASS_NUMBER) * 0.1 + 0.15)\n",
    "\n",
    "    Xt = np.concatenate([x, X_unknown_add], axis = 0)\n",
    "    yt = np.concatenate([y, y_unknown_add], axis = 0)\n",
    "        \n",
    "    xtr, xte, ytr, yte = train_test_split(Xt, yt, test_size=0.2, random_state=343)\n",
    "    if not isinstance(X_train, np.ndarray):\n",
    "        X_train = xtr\n",
    "        X_test = xte\n",
    "        y_train = ytr\n",
    "        y_test = yte\n",
    "    else:\n",
    "        X_train = np.concatenate([X_train, xtr], axis=0)\n",
    "        X_test = np.concatenate([X_test, xte], axis=0)\n",
    "        y_train = np.concatenate([y_train, ytr], axis=0)\n",
    "        y_test = np.concatenate([y_test, yte], axis=0)\n",
    "\n",
    "print(X_train.shape, X_test.shape, X_unknown.shape)"
   ]
  },
  {
   "cell_type": "code",
   "execution_count": 13,
   "metadata": {},
   "outputs": [],
   "source": [
    "#Empirical Mode Decomposotion\n",
    "X_train = emdSignal(X_train)\n",
    "X_test = emdSignal(X_test)"
   ]
  },
  {
   "cell_type": "code",
   "execution_count": 14,
   "metadata": {},
   "outputs": [],
   "source": [
    "#Unknown actions & EMD\n",
    "X_unknown = None\n",
    "for u in unknownActions:\n",
    "    if not isinstance(X_unknown, np.ndarray):\n",
    "        X_unknown = u\n",
    "    else:\n",
    "        X_unknown = np.concatenate([X_unknown, u], axis=0)\n",
    "X_unknown = emdSignal(X_unknown)"
   ]
  },
  {
   "cell_type": "code",
   "execution_count": 85,
   "metadata": {},
   "outputs": [],
   "source": [
    "#Combine new signal with processed signal\n",
    "pTrainSignalFiles = [\"230326_X_train\"]\n",
    "pTrainLabelFiles = [x.replace('X', 'y') for x in pTrainSignalFiles]\n",
    "pTestSignalFiles = [\"230326_X_test\"]\n",
    "pTestLabelFiles = [x.replace('X', 'y') for x in pTestSignalFiles]\n",
    "pUnknownSignalFiles = [\"230326_X_Unknown\"]\n",
    "\n",
    "if len(pTrainSignalFiles):\n",
    "    for ptsf, ptlf in zip(pTrainSignalFiles, pTrainLabelFiles):\n",
    "        X_train = np.concatenate([X_train, np.load(\"./data/emd/\" + ptsf + \".npy\")])\n",
    "        y_train = np.concatenate([y_train, np.load(\"./data/emd/\" + ptlf + \".npy\")])\n",
    "    for ptsf, ptlf in zip(pTestSignalFiles, pTestLabelFiles):\n",
    "        X_test = np.concatenate([X_test, np.load(\"./data/emd/\" + ptsf + \".npy\")])\n",
    "        y_test = np.concatenate([y_test, np.load(\"./data/emd/\" + ptlf + \".npy\")])\n",
    "    for pusf in pUnknownSignalFiles:\n",
    "        X_unknown = np.concatenate([X_unknown, np.load(\"./data/emd/\" + pusf + \".npy\")])"
   ]
  },
  {
   "cell_type": "code",
   "execution_count": 10,
   "metadata": {},
   "outputs": [],
   "source": [
    "#Save processed signal\n",
    "np.save(\"./data/emd/230326_X_train\", X_train)\n",
    "np.save(\"./data/emd/230326_y_train\", y_train)\n",
    "np.save(\"./data/emd/230326_X_test\", X_test)\n",
    "np.save(\"./data/emd/230326_y_test\", y_test)\n",
    "np.save(\"./data/emd/230326_X_unknown\", X_unknown)"
   ]
  },
  {
   "cell_type": "code",
   "execution_count": 15,
   "metadata": {},
   "outputs": [
    {
     "name": "stdout",
     "output_type": "stream",
     "text": [
      "Model: \"sequential_1\"\n",
      "_________________________________________________________________\n",
      " Layer (type)                Output Shape              Param #   \n",
      "=================================================================\n",
      " conv1d_3 (Conv1D)           (None, 250, 33)           12210     \n",
      "                                                                 \n",
      " batch_normalization_3 (Batc  (None, 250, 33)          132       \n",
      " hNormalization)                                                 \n",
      "                                                                 \n",
      " max_pooling1d_3 (MaxPooling  (None, 125, 33)          0         \n",
      " 1D)                                                             \n",
      "                                                                 \n",
      " dropout_3 (Dropout)         (None, 125, 33)           0         \n",
      "                                                                 \n",
      " conv1d_4 (Conv1D)           (None, 125, 41)           67691     \n",
      "                                                                 \n",
      " batch_normalization_4 (Batc  (None, 125, 41)          164       \n",
      " hNormalization)                                                 \n",
      "                                                                 \n",
      " max_pooling1d_4 (MaxPooling  (None, 63, 41)           0         \n",
      " 1D)                                                             \n",
      "                                                                 \n",
      " dropout_4 (Dropout)         (None, 63, 41)            0         \n",
      "                                                                 \n",
      " conv1d_5 (Conv1D)           (None, 63, 50)            98450     \n",
      "                                                                 \n",
      " batch_normalization_5 (Batc  (None, 63, 50)           200       \n",
      " hNormalization)                                                 \n",
      "                                                                 \n",
      " max_pooling1d_5 (MaxPooling  (None, 32, 50)           0         \n",
      " 1D)                                                             \n",
      "                                                                 \n",
      " dropout_5 (Dropout)         (None, 32, 50)            0         \n",
      "                                                                 \n",
      " flatten_1 (Flatten)         (None, 1600)              0         \n",
      "                                                                 \n",
      " dense_2 (Dense)             (None, 512)               819712    \n",
      "                                                                 \n",
      " dense_3 (Dense)             (None, 5)                 2565      \n",
      "                                                                 \n",
      "=================================================================\n",
      "Total params: 1,001,124\n",
      "Trainable params: 1,000,876\n",
      "Non-trainable params: 248\n",
      "_________________________________________________________________\n",
      "Epoch 1/50\n",
      "66/66 [==============================] - 3s 20ms/step - loss: 2.2117 - categorical_accuracy: 0.3700 - val_loss: 1.7333 - val_categorical_accuracy: 0.4269\n",
      "Epoch 2/50\n",
      "66/66 [==============================] - 1s 15ms/step - loss: 1.1621 - categorical_accuracy: 0.5274 - val_loss: 1.3718 - val_categorical_accuracy: 0.4649\n",
      "Epoch 3/50\n",
      "66/66 [==============================] - 1s 16ms/step - loss: 0.9217 - categorical_accuracy: 0.6488 - val_loss: 1.3765 - val_categorical_accuracy: 0.4744\n",
      "Epoch 4/50\n",
      "66/66 [==============================] - 1s 17ms/step - loss: 0.7855 - categorical_accuracy: 0.7222 - val_loss: 1.3247 - val_categorical_accuracy: 0.5161\n",
      "Epoch 5/50\n",
      "66/66 [==============================] - 1s 16ms/step - loss: 0.6568 - categorical_accuracy: 0.7726 - val_loss: 1.4856 - val_categorical_accuracy: 0.5142\n",
      "Epoch 6/50\n",
      "66/66 [==============================] - 1s 16ms/step - loss: 0.5846 - categorical_accuracy: 0.7922 - val_loss: 1.3668 - val_categorical_accuracy: 0.5484\n",
      "Epoch 7/50\n",
      "66/66 [==============================] - 1s 16ms/step - loss: 0.5337 - categorical_accuracy: 0.8143 - val_loss: 1.4271 - val_categorical_accuracy: 0.5503\n",
      "Epoch 8/50\n",
      "66/66 [==============================] - 1s 17ms/step - loss: 0.5005 - categorical_accuracy: 0.8162 - val_loss: 1.6162 - val_categorical_accuracy: 0.5522\n",
      "Epoch 9/50\n",
      "66/66 [==============================] - 1s 16ms/step - loss: 0.4889 - categorical_accuracy: 0.8292 - val_loss: 1.5544 - val_categorical_accuracy: 0.5693\n",
      "Epoch 10/50\n",
      "66/66 [==============================] - 1s 17ms/step - loss: 0.5628 - categorical_accuracy: 0.8157 - val_loss: 1.4009 - val_categorical_accuracy: 0.5787\n",
      "Epoch 11/50\n",
      "66/66 [==============================] - 1s 16ms/step - loss: 0.4517 - categorical_accuracy: 0.8431 - val_loss: 1.4027 - val_categorical_accuracy: 0.5844\n",
      "Epoch 12/50\n",
      "66/66 [==============================] - 1s 16ms/step - loss: 0.4316 - categorical_accuracy: 0.8421 - val_loss: 1.3300 - val_categorical_accuracy: 0.6319\n",
      "Epoch 13/50\n",
      "66/66 [==============================] - 1s 16ms/step - loss: 0.3869 - categorical_accuracy: 0.8589 - val_loss: 1.4875 - val_categorical_accuracy: 0.5958\n",
      "Epoch 14/50\n",
      "66/66 [==============================] - 1s 16ms/step - loss: 0.3622 - categorical_accuracy: 0.8546 - val_loss: 1.3722 - val_categorical_accuracy: 0.5996\n",
      "Epoch 15/50\n",
      "66/66 [==============================] - 1s 17ms/step - loss: 0.3587 - categorical_accuracy: 0.8671 - val_loss: 1.3121 - val_categorical_accuracy: 0.5844\n",
      "Epoch 16/50\n",
      "66/66 [==============================] - 1s 16ms/step - loss: 0.3459 - categorical_accuracy: 0.8690 - val_loss: 1.3609 - val_categorical_accuracy: 0.5996\n",
      "Epoch 17/50\n",
      "66/66 [==============================] - 1s 16ms/step - loss: 0.3363 - categorical_accuracy: 0.8690 - val_loss: 1.3271 - val_categorical_accuracy: 0.6186\n",
      "Epoch 18/50\n",
      "66/66 [==============================] - 1s 16ms/step - loss: 0.3284 - categorical_accuracy: 0.8666 - val_loss: 1.4039 - val_categorical_accuracy: 0.6129\n",
      "Epoch 19/50\n",
      "66/66 [==============================] - 1s 16ms/step - loss: 0.3158 - categorical_accuracy: 0.8695 - val_loss: 1.3130 - val_categorical_accuracy: 0.6129\n",
      "Epoch 20/50\n",
      "66/66 [==============================] - 1s 16ms/step - loss: 0.3209 - categorical_accuracy: 0.8700 - val_loss: 1.4060 - val_categorical_accuracy: 0.5939\n",
      "Epoch 21/50\n",
      "66/66 [==============================] - 1s 16ms/step - loss: 0.3174 - categorical_accuracy: 0.8685 - val_loss: 1.2947 - val_categorical_accuracy: 0.6357\n",
      "Epoch 22/50\n",
      "66/66 [==============================] - 1s 16ms/step - loss: 0.3160 - categorical_accuracy: 0.8748 - val_loss: 1.5544 - val_categorical_accuracy: 0.6015\n",
      "Epoch 23/50\n",
      "66/66 [==============================] - 1s 16ms/step - loss: 0.3090 - categorical_accuracy: 0.8743 - val_loss: 1.6418 - val_categorical_accuracy: 0.6034\n",
      "Epoch 24/50\n",
      "66/66 [==============================] - 1s 16ms/step - loss: 0.3308 - categorical_accuracy: 0.8714 - val_loss: 1.7893 - val_categorical_accuracy: 0.5769\n",
      "Epoch 25/50\n",
      "66/66 [==============================] - 1s 17ms/step - loss: 0.3146 - categorical_accuracy: 0.8781 - val_loss: 1.6638 - val_categorical_accuracy: 0.5901\n",
      "Epoch 26/50\n",
      "66/66 [==============================] - 1s 16ms/step - loss: 0.3245 - categorical_accuracy: 0.8757 - val_loss: 1.9639 - val_categorical_accuracy: 0.5484\n",
      "Epoch 27/50\n",
      "66/66 [==============================] - 1s 16ms/step - loss: 0.3540 - categorical_accuracy: 0.8608 - val_loss: 1.9376 - val_categorical_accuracy: 0.5844\n",
      "Epoch 28/50\n",
      "66/66 [==============================] - 1s 17ms/step - loss: 0.3548 - categorical_accuracy: 0.8656 - val_loss: 1.5884 - val_categorical_accuracy: 0.5806\n",
      "Epoch 29/50\n",
      "66/66 [==============================] - 1s 16ms/step - loss: 0.4508 - categorical_accuracy: 0.8440 - val_loss: 2.0480 - val_categorical_accuracy: 0.5275\n",
      "Epoch 30/50\n",
      "66/66 [==============================] - 1s 16ms/step - loss: 0.4785 - categorical_accuracy: 0.8292 - val_loss: 1.4654 - val_categorical_accuracy: 0.5560\n",
      "Epoch 31/50\n",
      "66/66 [==============================] - 1s 15ms/step - loss: 0.4699 - categorical_accuracy: 0.8292 - val_loss: 2.1808 - val_categorical_accuracy: 0.5427\n",
      "Epoch 32/50\n",
      "66/66 [==============================] - 1s 16ms/step - loss: 0.5876 - categorical_accuracy: 0.8191 - val_loss: 1.7977 - val_categorical_accuracy: 0.5541\n",
      "Epoch 33/50\n",
      "66/66 [==============================] - 1s 16ms/step - loss: 0.8428 - categorical_accuracy: 0.7706 - val_loss: 2.7148 - val_categorical_accuracy: 0.5408\n",
      "Epoch 34/50\n",
      "66/66 [==============================] - 1s 17ms/step - loss: 0.9459 - categorical_accuracy: 0.7716 - val_loss: 3.5388 - val_categorical_accuracy: 0.5256\n",
      "Epoch 35/50\n",
      "66/66 [==============================] - 1s 15ms/step - loss: 1.1182 - categorical_accuracy: 0.7625 - val_loss: 2.7715 - val_categorical_accuracy: 0.5161\n",
      "Epoch 36/50\n",
      "66/66 [==============================] - 1s 17ms/step - loss: 1.6071 - categorical_accuracy: 0.7054 - val_loss: 3.8959 - val_categorical_accuracy: 0.5009\n",
      "Epoch 37/50\n",
      "66/66 [==============================] - 1s 16ms/step - loss: 2.3026 - categorical_accuracy: 0.6742 - val_loss: 4.5340 - val_categorical_accuracy: 0.3510\n",
      "Epoch 38/50\n",
      "66/66 [==============================] - 1s 16ms/step - loss: 3.1318 - categorical_accuracy: 0.6147 - val_loss: 2.1935 - val_categorical_accuracy: 0.4991\n",
      "Epoch 39/50\n",
      "66/66 [==============================] - 1s 16ms/step - loss: 3.6029 - categorical_accuracy: 0.5893 - val_loss: 4.6487 - val_categorical_accuracy: 0.2960\n",
      "Epoch 40/50\n",
      "66/66 [==============================] - 1s 16ms/step - loss: 4.3847 - categorical_accuracy: 0.5336 - val_loss: 2.4934 - val_categorical_accuracy: 0.3169\n",
      "Epoch 41/50\n",
      "66/66 [==============================] - 1s 17ms/step - loss: 8.0224 - categorical_accuracy: 0.4439 - val_loss: 2.5152 - val_categorical_accuracy: 0.3510\n",
      "Epoch 42/50\n",
      "66/66 [==============================] - 1s 16ms/step - loss: 6.9261 - categorical_accuracy: 0.4789 - val_loss: nan - val_categorical_accuracy: 0.3662\n",
      "Epoch 43/50\n",
      "66/66 [==============================] - 1s 17ms/step - loss: 12.3401 - categorical_accuracy: 0.4083 - val_loss: 22.0235 - val_categorical_accuracy: 0.3890\n",
      "Epoch 44/50\n",
      "66/66 [==============================] - 1s 17ms/step - loss: 11.2974 - categorical_accuracy: 0.4237 - val_loss: 5.6464 - val_categorical_accuracy: 0.3055\n",
      "Epoch 45/50\n",
      "66/66 [==============================] - 1s 16ms/step - loss: 15.7097 - categorical_accuracy: 0.3959 - val_loss: 2.7502 - val_categorical_accuracy: 0.4364\n",
      "Epoch 46/50\n",
      "66/66 [==============================] - 1s 17ms/step - loss: nan - categorical_accuracy: 0.3997 - val_loss: 1.8772 - val_categorical_accuracy: 0.4156\n",
      "Epoch 47/50\n",
      "66/66 [==============================] - 1s 16ms/step - loss: nan - categorical_accuracy: 0.4165 - val_loss: 2.6982 - val_categorical_accuracy: 0.4061\n",
      "Epoch 48/50\n",
      "66/66 [==============================] - 1s 16ms/step - loss: nan - categorical_accuracy: 0.4055 - val_loss: 6.7866 - val_categorical_accuracy: 0.3624\n",
      "Epoch 49/50\n",
      "66/66 [==============================] - 1s 16ms/step - loss: nan - categorical_accuracy: 0.4107 - val_loss: 6.3778 - val_categorical_accuracy: 0.4459\n",
      "Epoch 50/50\n",
      "66/66 [==============================] - 1s 17ms/step - loss: nan - categorical_accuracy: 0.3858 - val_loss: nan - val_categorical_accuracy: 0.3548\n"
     ]
    }
   ],
   "source": [
    "#Training\n",
    "model = buildModel(X_train.shape[1:])\n",
    "model.summary()\n",
    "history = model.fit(x=X_train,\n",
    "                    y=y_train,\n",
    "                    batch_size=BATCH_SIZE,\n",
    "                    epochs=50,\n",
    "                    validation_data=[X_test, y_test])"
   ]
  },
  {
   "cell_type": "code",
   "execution_count": 16,
   "metadata": {},
   "outputs": [
    {
     "data": {
      "application/vnd.plotly.v1+json": {
       "config": {
        "plotlyServerURL": "https://plot.ly"
       },
       "data": [
        {
         "hovertemplate": "variable=loss<br>index=%{x}<br>value=%{y}<extra></extra>",
         "legendgroup": "loss",
         "line": {
          "color": "#636efa",
          "dash": "solid"
         },
         "marker": {
          "symbol": "circle"
         },
         "mode": "lines",
         "name": "loss",
         "orientation": "v",
         "showlegend": true,
         "type": "scatter",
         "x": [
          0,
          1,
          2,
          3,
          4,
          5,
          6,
          7,
          8,
          9,
          10,
          11,
          12,
          13,
          14,
          15,
          16,
          17,
          18,
          19,
          20,
          21,
          22,
          23,
          24,
          25,
          26,
          27,
          28,
          29,
          30,
          31,
          32,
          33,
          34,
          35,
          36,
          37,
          38,
          39,
          40,
          41,
          42,
          43,
          44,
          45,
          46,
          47,
          48,
          49
         ],
         "xaxis": "x",
         "y": [
          2.2117435932159424,
          1.1621394157409668,
          0.9216631650924683,
          0.7855274081230164,
          0.6567944884300232,
          0.5845776200294495,
          0.5336993932723999,
          0.5005013942718506,
          0.4888923168182373,
          0.5627689957618713,
          0.4516807794570923,
          0.4316324293613434,
          0.38693851232528687,
          0.36218684911727905,
          0.3586927056312561,
          0.34594398736953735,
          0.3363194167613983,
          0.3284427225589752,
          0.31580549478530884,
          0.32087433338165283,
          0.31740331649780273,
          0.31595170497894287,
          0.30899345874786377,
          0.3308414816856384,
          0.3146328032016754,
          0.32452598214149475,
          0.3539959490299225,
          0.3548029959201813,
          0.4507913589477539,
          0.47851842641830444,
          0.4699271321296692,
          0.5876057147979736,
          0.8427598476409912,
          0.9459415674209595,
          1.1181997060775757,
          1.6071369647979736,
          2.3026368618011475,
          3.1318228244781494,
          3.602893352508545,
          4.384713172912598,
          8.022433280944824,
          6.92609977722168,
          12.340072631835938,
          11.297385215759277,
          15.70969295501709,
          null,
          null,
          null,
          null,
          null
         ],
         "yaxis": "y"
        },
        {
         "hovertemplate": "variable=val_loss<br>index=%{x}<br>value=%{y}<extra></extra>",
         "legendgroup": "val_loss",
         "line": {
          "color": "#EF553B",
          "dash": "solid"
         },
         "marker": {
          "symbol": "circle"
         },
         "mode": "lines",
         "name": "val_loss",
         "orientation": "v",
         "showlegend": true,
         "type": "scatter",
         "x": [
          0,
          1,
          2,
          3,
          4,
          5,
          6,
          7,
          8,
          9,
          10,
          11,
          12,
          13,
          14,
          15,
          16,
          17,
          18,
          19,
          20,
          21,
          22,
          23,
          24,
          25,
          26,
          27,
          28,
          29,
          30,
          31,
          32,
          33,
          34,
          35,
          36,
          37,
          38,
          39,
          40,
          41,
          42,
          43,
          44,
          45,
          46,
          47,
          48,
          49
         ],
         "xaxis": "x",
         "y": [
          1.7332539558410645,
          1.3717701435089111,
          1.3765482902526855,
          1.324680209159851,
          1.4856295585632324,
          1.366844654083252,
          1.4271107912063599,
          1.6161627769470215,
          1.5543502569198608,
          1.4009336233139038,
          1.402682900428772,
          1.3299901485443115,
          1.4874584674835205,
          1.3722463846206665,
          1.3121099472045898,
          1.360909342765808,
          1.3271400928497314,
          1.403852105140686,
          1.3130086660385132,
          1.4059507846832275,
          1.294671654701233,
          1.554383635520935,
          1.6418275833129883,
          1.7892533540725708,
          1.6638048887252808,
          1.963893175125122,
          1.9376389980316162,
          1.5884020328521729,
          2.0480480194091797,
          1.4654422998428345,
          2.180840015411377,
          1.7977125644683838,
          2.71478271484375,
          3.5387752056121826,
          2.771491765975952,
          3.8959248065948486,
          4.534022331237793,
          2.193466901779175,
          4.648719310760498,
          2.493366003036499,
          2.51521635055542,
          null,
          22.023540496826172,
          5.646377086639404,
          2.7501742839813232,
          1.8772051334381104,
          2.698168992996216,
          6.786599636077881,
          6.377809047698975,
          null
         ],
         "yaxis": "y"
        }
       ],
       "layout": {
        "legend": {
         "title": {
          "text": "variable"
         },
         "tracegroupgap": 0
        },
        "margin": {
         "t": 60
        },
        "template": {
         "data": {
          "bar": [
           {
            "error_x": {
             "color": "#2a3f5f"
            },
            "error_y": {
             "color": "#2a3f5f"
            },
            "marker": {
             "line": {
              "color": "#E5ECF6",
              "width": 0.5
             },
             "pattern": {
              "fillmode": "overlay",
              "size": 10,
              "solidity": 0.2
             }
            },
            "type": "bar"
           }
          ],
          "barpolar": [
           {
            "marker": {
             "line": {
              "color": "#E5ECF6",
              "width": 0.5
             },
             "pattern": {
              "fillmode": "overlay",
              "size": 10,
              "solidity": 0.2
             }
            },
            "type": "barpolar"
           }
          ],
          "carpet": [
           {
            "aaxis": {
             "endlinecolor": "#2a3f5f",
             "gridcolor": "white",
             "linecolor": "white",
             "minorgridcolor": "white",
             "startlinecolor": "#2a3f5f"
            },
            "baxis": {
             "endlinecolor": "#2a3f5f",
             "gridcolor": "white",
             "linecolor": "white",
             "minorgridcolor": "white",
             "startlinecolor": "#2a3f5f"
            },
            "type": "carpet"
           }
          ],
          "choropleth": [
           {
            "colorbar": {
             "outlinewidth": 0,
             "ticks": ""
            },
            "type": "choropleth"
           }
          ],
          "contour": [
           {
            "colorbar": {
             "outlinewidth": 0,
             "ticks": ""
            },
            "colorscale": [
             [
              0,
              "#0d0887"
             ],
             [
              0.1111111111111111,
              "#46039f"
             ],
             [
              0.2222222222222222,
              "#7201a8"
             ],
             [
              0.3333333333333333,
              "#9c179e"
             ],
             [
              0.4444444444444444,
              "#bd3786"
             ],
             [
              0.5555555555555556,
              "#d8576b"
             ],
             [
              0.6666666666666666,
              "#ed7953"
             ],
             [
              0.7777777777777778,
              "#fb9f3a"
             ],
             [
              0.8888888888888888,
              "#fdca26"
             ],
             [
              1,
              "#f0f921"
             ]
            ],
            "type": "contour"
           }
          ],
          "contourcarpet": [
           {
            "colorbar": {
             "outlinewidth": 0,
             "ticks": ""
            },
            "type": "contourcarpet"
           }
          ],
          "heatmap": [
           {
            "colorbar": {
             "outlinewidth": 0,
             "ticks": ""
            },
            "colorscale": [
             [
              0,
              "#0d0887"
             ],
             [
              0.1111111111111111,
              "#46039f"
             ],
             [
              0.2222222222222222,
              "#7201a8"
             ],
             [
              0.3333333333333333,
              "#9c179e"
             ],
             [
              0.4444444444444444,
              "#bd3786"
             ],
             [
              0.5555555555555556,
              "#d8576b"
             ],
             [
              0.6666666666666666,
              "#ed7953"
             ],
             [
              0.7777777777777778,
              "#fb9f3a"
             ],
             [
              0.8888888888888888,
              "#fdca26"
             ],
             [
              1,
              "#f0f921"
             ]
            ],
            "type": "heatmap"
           }
          ],
          "heatmapgl": [
           {
            "colorbar": {
             "outlinewidth": 0,
             "ticks": ""
            },
            "colorscale": [
             [
              0,
              "#0d0887"
             ],
             [
              0.1111111111111111,
              "#46039f"
             ],
             [
              0.2222222222222222,
              "#7201a8"
             ],
             [
              0.3333333333333333,
              "#9c179e"
             ],
             [
              0.4444444444444444,
              "#bd3786"
             ],
             [
              0.5555555555555556,
              "#d8576b"
             ],
             [
              0.6666666666666666,
              "#ed7953"
             ],
             [
              0.7777777777777778,
              "#fb9f3a"
             ],
             [
              0.8888888888888888,
              "#fdca26"
             ],
             [
              1,
              "#f0f921"
             ]
            ],
            "type": "heatmapgl"
           }
          ],
          "histogram": [
           {
            "marker": {
             "pattern": {
              "fillmode": "overlay",
              "size": 10,
              "solidity": 0.2
             }
            },
            "type": "histogram"
           }
          ],
          "histogram2d": [
           {
            "colorbar": {
             "outlinewidth": 0,
             "ticks": ""
            },
            "colorscale": [
             [
              0,
              "#0d0887"
             ],
             [
              0.1111111111111111,
              "#46039f"
             ],
             [
              0.2222222222222222,
              "#7201a8"
             ],
             [
              0.3333333333333333,
              "#9c179e"
             ],
             [
              0.4444444444444444,
              "#bd3786"
             ],
             [
              0.5555555555555556,
              "#d8576b"
             ],
             [
              0.6666666666666666,
              "#ed7953"
             ],
             [
              0.7777777777777778,
              "#fb9f3a"
             ],
             [
              0.8888888888888888,
              "#fdca26"
             ],
             [
              1,
              "#f0f921"
             ]
            ],
            "type": "histogram2d"
           }
          ],
          "histogram2dcontour": [
           {
            "colorbar": {
             "outlinewidth": 0,
             "ticks": ""
            },
            "colorscale": [
             [
              0,
              "#0d0887"
             ],
             [
              0.1111111111111111,
              "#46039f"
             ],
             [
              0.2222222222222222,
              "#7201a8"
             ],
             [
              0.3333333333333333,
              "#9c179e"
             ],
             [
              0.4444444444444444,
              "#bd3786"
             ],
             [
              0.5555555555555556,
              "#d8576b"
             ],
             [
              0.6666666666666666,
              "#ed7953"
             ],
             [
              0.7777777777777778,
              "#fb9f3a"
             ],
             [
              0.8888888888888888,
              "#fdca26"
             ],
             [
              1,
              "#f0f921"
             ]
            ],
            "type": "histogram2dcontour"
           }
          ],
          "mesh3d": [
           {
            "colorbar": {
             "outlinewidth": 0,
             "ticks": ""
            },
            "type": "mesh3d"
           }
          ],
          "parcoords": [
           {
            "line": {
             "colorbar": {
              "outlinewidth": 0,
              "ticks": ""
             }
            },
            "type": "parcoords"
           }
          ],
          "pie": [
           {
            "automargin": true,
            "type": "pie"
           }
          ],
          "scatter": [
           {
            "fillpattern": {
             "fillmode": "overlay",
             "size": 10,
             "solidity": 0.2
            },
            "type": "scatter"
           }
          ],
          "scatter3d": [
           {
            "line": {
             "colorbar": {
              "outlinewidth": 0,
              "ticks": ""
             }
            },
            "marker": {
             "colorbar": {
              "outlinewidth": 0,
              "ticks": ""
             }
            },
            "type": "scatter3d"
           }
          ],
          "scattercarpet": [
           {
            "marker": {
             "colorbar": {
              "outlinewidth": 0,
              "ticks": ""
             }
            },
            "type": "scattercarpet"
           }
          ],
          "scattergeo": [
           {
            "marker": {
             "colorbar": {
              "outlinewidth": 0,
              "ticks": ""
             }
            },
            "type": "scattergeo"
           }
          ],
          "scattergl": [
           {
            "marker": {
             "colorbar": {
              "outlinewidth": 0,
              "ticks": ""
             }
            },
            "type": "scattergl"
           }
          ],
          "scattermapbox": [
           {
            "marker": {
             "colorbar": {
              "outlinewidth": 0,
              "ticks": ""
             }
            },
            "type": "scattermapbox"
           }
          ],
          "scatterpolar": [
           {
            "marker": {
             "colorbar": {
              "outlinewidth": 0,
              "ticks": ""
             }
            },
            "type": "scatterpolar"
           }
          ],
          "scatterpolargl": [
           {
            "marker": {
             "colorbar": {
              "outlinewidth": 0,
              "ticks": ""
             }
            },
            "type": "scatterpolargl"
           }
          ],
          "scatterternary": [
           {
            "marker": {
             "colorbar": {
              "outlinewidth": 0,
              "ticks": ""
             }
            },
            "type": "scatterternary"
           }
          ],
          "surface": [
           {
            "colorbar": {
             "outlinewidth": 0,
             "ticks": ""
            },
            "colorscale": [
             [
              0,
              "#0d0887"
             ],
             [
              0.1111111111111111,
              "#46039f"
             ],
             [
              0.2222222222222222,
              "#7201a8"
             ],
             [
              0.3333333333333333,
              "#9c179e"
             ],
             [
              0.4444444444444444,
              "#bd3786"
             ],
             [
              0.5555555555555556,
              "#d8576b"
             ],
             [
              0.6666666666666666,
              "#ed7953"
             ],
             [
              0.7777777777777778,
              "#fb9f3a"
             ],
             [
              0.8888888888888888,
              "#fdca26"
             ],
             [
              1,
              "#f0f921"
             ]
            ],
            "type": "surface"
           }
          ],
          "table": [
           {
            "cells": {
             "fill": {
              "color": "#EBF0F8"
             },
             "line": {
              "color": "white"
             }
            },
            "header": {
             "fill": {
              "color": "#C8D4E3"
             },
             "line": {
              "color": "white"
             }
            },
            "type": "table"
           }
          ]
         },
         "layout": {
          "annotationdefaults": {
           "arrowcolor": "#2a3f5f",
           "arrowhead": 0,
           "arrowwidth": 1
          },
          "autotypenumbers": "strict",
          "coloraxis": {
           "colorbar": {
            "outlinewidth": 0,
            "ticks": ""
           }
          },
          "colorscale": {
           "diverging": [
            [
             0,
             "#8e0152"
            ],
            [
             0.1,
             "#c51b7d"
            ],
            [
             0.2,
             "#de77ae"
            ],
            [
             0.3,
             "#f1b6da"
            ],
            [
             0.4,
             "#fde0ef"
            ],
            [
             0.5,
             "#f7f7f7"
            ],
            [
             0.6,
             "#e6f5d0"
            ],
            [
             0.7,
             "#b8e186"
            ],
            [
             0.8,
             "#7fbc41"
            ],
            [
             0.9,
             "#4d9221"
            ],
            [
             1,
             "#276419"
            ]
           ],
           "sequential": [
            [
             0,
             "#0d0887"
            ],
            [
             0.1111111111111111,
             "#46039f"
            ],
            [
             0.2222222222222222,
             "#7201a8"
            ],
            [
             0.3333333333333333,
             "#9c179e"
            ],
            [
             0.4444444444444444,
             "#bd3786"
            ],
            [
             0.5555555555555556,
             "#d8576b"
            ],
            [
             0.6666666666666666,
             "#ed7953"
            ],
            [
             0.7777777777777778,
             "#fb9f3a"
            ],
            [
             0.8888888888888888,
             "#fdca26"
            ],
            [
             1,
             "#f0f921"
            ]
           ],
           "sequentialminus": [
            [
             0,
             "#0d0887"
            ],
            [
             0.1111111111111111,
             "#46039f"
            ],
            [
             0.2222222222222222,
             "#7201a8"
            ],
            [
             0.3333333333333333,
             "#9c179e"
            ],
            [
             0.4444444444444444,
             "#bd3786"
            ],
            [
             0.5555555555555556,
             "#d8576b"
            ],
            [
             0.6666666666666666,
             "#ed7953"
            ],
            [
             0.7777777777777778,
             "#fb9f3a"
            ],
            [
             0.8888888888888888,
             "#fdca26"
            ],
            [
             1,
             "#f0f921"
            ]
           ]
          },
          "colorway": [
           "#636efa",
           "#EF553B",
           "#00cc96",
           "#ab63fa",
           "#FFA15A",
           "#19d3f3",
           "#FF6692",
           "#B6E880",
           "#FF97FF",
           "#FECB52"
          ],
          "font": {
           "color": "#2a3f5f"
          },
          "geo": {
           "bgcolor": "white",
           "lakecolor": "white",
           "landcolor": "#E5ECF6",
           "showlakes": true,
           "showland": true,
           "subunitcolor": "white"
          },
          "hoverlabel": {
           "align": "left"
          },
          "hovermode": "closest",
          "mapbox": {
           "style": "light"
          },
          "paper_bgcolor": "white",
          "plot_bgcolor": "#E5ECF6",
          "polar": {
           "angularaxis": {
            "gridcolor": "white",
            "linecolor": "white",
            "ticks": ""
           },
           "bgcolor": "#E5ECF6",
           "radialaxis": {
            "gridcolor": "white",
            "linecolor": "white",
            "ticks": ""
           }
          },
          "scene": {
           "xaxis": {
            "backgroundcolor": "#E5ECF6",
            "gridcolor": "white",
            "gridwidth": 2,
            "linecolor": "white",
            "showbackground": true,
            "ticks": "",
            "zerolinecolor": "white"
           },
           "yaxis": {
            "backgroundcolor": "#E5ECF6",
            "gridcolor": "white",
            "gridwidth": 2,
            "linecolor": "white",
            "showbackground": true,
            "ticks": "",
            "zerolinecolor": "white"
           },
           "zaxis": {
            "backgroundcolor": "#E5ECF6",
            "gridcolor": "white",
            "gridwidth": 2,
            "linecolor": "white",
            "showbackground": true,
            "ticks": "",
            "zerolinecolor": "white"
           }
          },
          "shapedefaults": {
           "line": {
            "color": "#2a3f5f"
           }
          },
          "ternary": {
           "aaxis": {
            "gridcolor": "white",
            "linecolor": "white",
            "ticks": ""
           },
           "baxis": {
            "gridcolor": "white",
            "linecolor": "white",
            "ticks": ""
           },
           "bgcolor": "#E5ECF6",
           "caxis": {
            "gridcolor": "white",
            "linecolor": "white",
            "ticks": ""
           }
          },
          "title": {
           "x": 0.05
          },
          "xaxis": {
           "automargin": true,
           "gridcolor": "white",
           "linecolor": "white",
           "ticks": "",
           "title": {
            "standoff": 15
           },
           "zerolinecolor": "white",
           "zerolinewidth": 2
          },
          "yaxis": {
           "automargin": true,
           "gridcolor": "white",
           "linecolor": "white",
           "ticks": "",
           "title": {
            "standoff": 15
           },
           "zerolinecolor": "white",
           "zerolinewidth": 2
          }
         }
        },
        "xaxis": {
         "anchor": "y",
         "domain": [
          0,
          1
         ],
         "title": {
          "text": "index"
         }
        },
        "yaxis": {
         "anchor": "x",
         "domain": [
          0,
          1
         ],
         "title": {
          "text": "value"
         }
        }
       }
      }
     },
     "metadata": {},
     "output_type": "display_data"
    }
   ],
   "source": [
    "f1 = np.array(history.history['loss']).flatten()\n",
    "valf1 = np.array(history.history['val_loss']).flatten()\n",
    "px.line(pd.DataFrame(np.array([f1, valf1]).T, columns=['loss', 'val_loss'])).show()"
   ]
  },
  {
   "cell_type": "code",
   "execution_count": null,
   "metadata": {},
   "outputs": [],
   "source": [
    "model = tf.keras.models.load_model('./model/MTJaw0329')"
   ]
  },
  {
   "cell_type": "code",
   "execution_count": 88,
   "metadata": {},
   "outputs": [],
   "source": [
    "All_X = np.concatenate([X_test, X_unknown])\n",
    "All_y = np.concatenate([y_test, np.array([[0] * CLASS_NUMBER for _ in range(X_unknown.shape[0])])])\n",
    "res = model(All_X)"
   ]
  },
  {
   "cell_type": "code",
   "execution_count": 91,
   "metadata": {},
   "outputs": [
    {
     "name": "stdout",
     "output_type": "stream",
     "text": [
      "Action: undefined action, True: 4630, False: 1378, Accuracy: 0.7706\n",
      "Action: up, True: 58, False: 95, Accuracy: 0.3791\n",
      "Action: down, True: 20, False: 112, Accuracy: 0.1515\n",
      "Action: left, True: 298, False: 206, Accuracy: 0.5913\n",
      "Action: right, True: 214, False: 215, Accuracy: 0.4988\n",
      "Action: quick touch, True: 20, False: 70, Accuracy: 0.2222\n",
      "Left&Right True: 512, False: 421, Accuracy: 0.5488\n",
      "Total True: 5240, False: 2076, Accuracy: 0.7162\n"
     ]
    }
   ],
   "source": [
    "# pd.DataFrame([KEY_CLASS[np.argmax(r) + 1] if any(r) else KEY_CLASS[0] for r in All_y]).value_counts()\n",
    "# pd.DataFrame([KEY_CLASS[np.argmax(r) + 1 if r[np.argmax(r)] > BELIEF_THRESHOLD else 0] for r in res]).value_counts()\n",
    "gj = {}\n",
    "bj = {}\n",
    "tg = 0\n",
    "tb = 0\n",
    "\n",
    "for key, cls in KEY_CLASS.items():\n",
    "    gj[cls] = 0\n",
    "    bj[cls] = 0\n",
    "    \n",
    "for r, p in zip(All_y, res):\n",
    "    rm = KEY_CLASS[np.argmax(r) + 1 if any(r) else 0]\n",
    "    pm = KEY_CLASS[np.argmax(p) + 1 if p[np.argmax(p)] > BELIEF_THRESHOLD else 0]\n",
    "    if rm == pm:\n",
    "        tg += 1\n",
    "        gj[rm] += 1\n",
    "    else:\n",
    "        tb += 1\n",
    "        bj[rm] += 1\n",
    "        \n",
    "for key, cls in KEY_CLASS.items():\n",
    "    print(\"Action: {}, True: {}, False: {}, Accuracy: {:.4f}\".format(cls, gj[cls], bj[cls], gj[cls] / (gj[cls] + bj[cls])))\n",
    "print(\"Left&Right True: {}, False: {}, Accuracy: {:.4f}\".format(gj[\"left\"] + gj[\"right\"], bj[\"left\"] + bj[\"right\"], (gj[\"left\"] + gj[\"right\"]) / (gj[\"left\"] + gj[\"right\"] + bj[\"left\"] + bj[\"right\"])))\n",
    "print(\"Total True: {}, False: {}, Accuracy: {:.4f}\".format(tg, tb, tg / (tg + tb)))"
   ]
  },
  {
   "cell_type": "code",
   "execution_count": null,
   "metadata": {},
   "outputs": [],
   "source": [
    "class GA():\n",
    "    def __init__(self, popSize = 100, maxGen = 100, mr = 0.1, cr = 0.8):\n",
    "        self.popSize = popSize\n",
    "        self.pop = np.random.random(popSize)\n",
    "        self.maxGen = maxGen\n",
    "        self.cr = cr\n",
    "        self.mr = mr\n",
    "\n",
    "    def crossover(self, pa, pb):\n",
    "        if (np.random.random() < self.cr):\n",
    "            alpha = np.clip(np.random.random(), 0.1, 0.9)\n",
    "            oa = pa * alpha + pb * (1 - alpha)\n",
    "            ob = pb * alpha + pa * (1 - alpha)\n",
    "            return oa, ob\n",
    "        else:\n",
    "            return pa, pb\n",
    "    \n",
    "    def mutation(self, i):\n",
    "        pass\n",
    "    \n",
    "def objective(belief):\n",
    "    gj = {}\n",
    "    bj = {}\n",
    "    tg = 0\n",
    "    tb = 0\n",
    "\n",
    "    for key, cls in KEY_CLASS.items():\n",
    "        gj[cls] = 0\n",
    "        bj[cls] = 0\n",
    "        \n",
    "    for r, p in zip(All_y, res):\n",
    "        rm = KEY_CLASS[np.argmax(r) + 1 if any(r) else 0]\n",
    "        pm = KEY_CLASS[np.argmax(p) + 1 if p[np.argmax(p)] > belief else 0]\n",
    "        if rm == pm:\n",
    "            tg += 1\n",
    "            gj[rm] += 1\n",
    "        else:\n",
    "            tb += 1\n",
    "            bj[rm] += 1\n",
    "\n",
    "    undef_acc = gj[\"undefined action\"] / (gj[\"undefined action\"] + bj[\"undefined action\"])\n",
    "    left_acc = gj[\"left\"] / (gj[\"left\"] + bj[\"left\"])\n",
    "    right_acc = gj[\"right\"] / (gj[\"right\"] + bj[\"right\"])\n",
    "    return undef_acc + left_acc + right_acc\n"
   ]
  },
  {
   "cell_type": "code",
   "execution_count": 48,
   "metadata": {},
   "outputs": [],
   "source": [
    "model.save(\"./model/MTJaw0329\", save_format=\"tf\")"
   ]
  },
  {
   "attachments": {},
   "cell_type": "markdown",
   "metadata": {},
   "source": [
    "### Other test"
   ]
  },
  {
   "cell_type": "code",
   "execution_count": 9,
   "metadata": {},
   "outputs": [
    {
     "name": "stdout",
     "output_type": "stream",
     "text": [
      "Number of X: 393, unknown X: 624\n"
     ]
    }
   ],
   "source": [
    "testSignalFiles = [\"2023_Mar_29_170717_l5m6r7_record_X\"]\n",
    "testLabelFiles = [\"2023_Mar_29_170717_l5m6r7_record_y\"]\n",
    "\n",
    "testSignal, testLabel = None, None\n",
    "for sfp, lfp in zip(testSignalFiles, testLabelFiles):\n",
    "    testSignal = np.load(\"./data/\" + sfp + \".npy\")[INITIAL_PULSE:] if not isinstance(testSignal, np.ndarray) else np.concatenate([testSignal, np.load(\"./data/\" + sfp + \".npy\")[INITIAL_PULSE:]], axis=0)\n",
    "    testLabel = np.load(\"./data/\" + lfp + \".npy\")[INITIAL_PULSE:] if not isinstance(testLabel, np.ndarray) else np.concatenate([testLabel, np.load(\"./data/\" + lfp + \".npy\")[INITIAL_PULSE:]], axis=0)\n",
    "\n",
    "X2, y2, X2_unknown = slicing(testSignal, testLabel)\n",
    "print(\"Number of X: {}, unknown X: {}\".format(X2.shape[0], X2_unknown.shape[0]))"
   ]
  },
  {
   "cell_type": "code",
   "execution_count": 10,
   "metadata": {},
   "outputs": [],
   "source": [
    "X2 = emdSignal(X2)\n",
    "# X2_unknown = emdSignal(X2_unknown)\n",
    "# X2t = np.concatenate([X2, X2_unknown], axis=0)\n",
    "# y2t = np.concatenate([y2, np.zeros((X2_unknown.shape[0], CLASS_NUMBER))])"
   ]
  },
  {
   "cell_type": "code",
   "execution_count": 26,
   "metadata": {},
   "outputs": [
    {
     "name": "stdout",
     "output_type": "stream",
     "text": [
      "Action: left, True: 25, False: 179, Accuracy: 0.1225\n",
      "Action: right, True: 48, False: 141, Accuracy: 0.2540\n",
      "Total True: 73, False: 320, Accuracy: 0.1858\n"
     ]
    }
   ],
   "source": [
    "res2 = model(X2)\n",
    "gj = {}\n",
    "bj = {}\n",
    "tg = 0\n",
    "tb = 0\n",
    "\n",
    "for key, cls in KEY_CLASS.items():\n",
    "    gj[cls] = 0\n",
    "    bj[cls] = 0\n",
    "    \n",
    "for r, p in zip(y2, res2):\n",
    "    rm = KEY_CLASS[np.argmax(r) + 1 if any(r) else 0]\n",
    "    pm = KEY_CLASS[np.argmax(p) + 1 if p[np.argmax(p)] > BELIEF_THRESHOLD else 0]\n",
    "    if rm == pm:\n",
    "        tg += 1\n",
    "        gj[rm] += 1\n",
    "    else:\n",
    "        tb += 1\n",
    "        bj[rm] += 1\n",
    "        \n",
    "for key, cls in KEY_CLASS.items():\n",
    "    if ((gj[cls] + bj[cls]) > 0):\n",
    "        print(\"Action: {}, True: {}, False: {}, Accuracy: {:.4f}\".format(cls, gj[cls], bj[cls], gj[cls] / (gj[cls] + bj[cls])))\n",
    "print(\"Total True: {}, False: {}, Accuracy: {:.4f}\".format(tg, tb, tg / (tg + tb)))"
   ]
  },
  {
   "attachments": {},
   "cell_type": "markdown",
   "metadata": {},
   "source": [
    "### Backup code"
   ]
  },
  {
   "cell_type": "code",
   "execution_count": null,
   "metadata": {},
   "outputs": [],
   "source": [
    "if X.shape[0] // CLASS_NUMBER < X_unknown.shape[0]:\n",
    "    X_unknown_add = X_unknown[np.random.choice(X_unknown.shape[0], size = int(X.shape[0] // CLASS_NUMBER), replace = False)]\n",
    "    y_unknown_add = (np.random.rand(int(X.shape[0] // CLASS_NUMBER), CLASS_NUMBER) * 0.1 + 0.15)\n",
    "else:\n",
    "    X_unknown_add = X_unknown\n",
    "    y_unknown_add = (np.random.rand(X_unknown.shape[0], CLASS_NUMBER) * 0.1 + 0.15)\n",
    "\n",
    "Xt = np.concatenate([X, X_unknown_add], axis = 0)\n",
    "yt = np.concatenate([y, y_unknown_add], axis = 0)\n",
    "    \n",
    "X_train, X_test, y_train, y_test = train_test_split(Xt, yt, test_size=0.2, random_state=343)\n",
    "\n",
    "print(X_train.shape, X_test.shape)"
   ]
  }
 ],
 "metadata": {
  "kernelspec": {
   "display_name": "Python 3 (ipykernel)",
   "language": "python",
   "name": "python3"
  },
  "language_info": {
   "codemirror_mode": {
    "name": "ipython",
    "version": 3
   },
   "file_extension": ".py",
   "mimetype": "text/x-python",
   "name": "python",
   "nbconvert_exporter": "python",
   "pygments_lexer": "ipython3",
   "version": "3.10.7"
  },
  "vscode": {
   "interpreter": {
    "hash": "369f2c481f4da34e4445cda3fffd2e751bd1c4d706f27375911949ba6bb62e1c"
   }
  }
 },
 "nbformat": 4,
 "nbformat_minor": 2
}

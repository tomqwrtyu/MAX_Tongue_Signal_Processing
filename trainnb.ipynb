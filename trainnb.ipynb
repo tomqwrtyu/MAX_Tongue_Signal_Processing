{
 "cells": [
  {
   "cell_type": "code",
   "execution_count": 90,
   "metadata": {
    "scrolled": true
   },
   "outputs": [],
   "source": [
    "import pandas as pd\n",
    "import numpy as np\n",
    "import tensorflow as tf\n",
    "from sklearn.model_selection import train_test_split\n",
    "import plotly.express as px\n",
    "import emd\n",
    "tf.keras.mixed_precision.set_global_policy('mixed_float16')\n",
    "\n",
    "BATCH_SIZE = 32\n",
    "CHANNEL_NUMBER = 3\n",
    "WINDOW_SIZE = 100\n",
    "SLIDING_STEP = int(WINDOW_SIZE * 0.4)\n",
    "KEY_CLASS = {0:'undefined action', 1:'up', 2:'down', 3:'left', 4:'right', 5:'quick touch'}\n",
    "CLASS_NUMBER = 5 # 0 is not a class\n",
    "NUM_IMF = 3\n",
    "LABEL_THRESHOLD = 0.65\n",
    "BELIEF_THRESHOLD = 0.7\n",
    "INITIAL_PULSE = 100 # abandon initial pulse data\n",
    "\n",
    "if CLASS_NUMBER < 2:\n",
    "    CLASS_NUMBER = 2"
   ]
  },
  {
   "cell_type": "code",
   "execution_count": 80,
   "metadata": {},
   "outputs": [],
   "source": [
    "def slicing(x, y):\n",
    "    totalLength = x.shape[0]\n",
    "    assert totalLength == y.shape[0], \"Data numbers not matching with that of labels.\"\n",
    "    if totalLength <= WINDOW_SIZE:\n",
    "        return x, y\n",
    "\n",
    "    y = one_hot(y)\n",
    "    \n",
    "    thresholdWindow = LABEL_THRESHOLD * WINDOW_SIZE\n",
    "    retx = None\n",
    "    rety = None\n",
    "    retUnknown = None\n",
    "    \n",
    "    i = 0\n",
    "    while (totalLength - i) > WINDOW_SIZE:\n",
    "        new = (x[i:(i + WINDOW_SIZE), :])[np.newaxis, :]\n",
    "        \n",
    "        classSum = np.sum(y[i:(i + WINDOW_SIZE)], axis = 0)\n",
    "        maxIdx = np.argmax(classSum)\n",
    "        if classSum[maxIdx] > thresholdWindow:\n",
    "            if not isinstance(retx, np.ndarray):\n",
    "                retx = new.copy()\n",
    "                rety = [maxIdx + 1]\n",
    "            else:\n",
    "                retx = np.concatenate([retx, new], axis=0)\n",
    "                rety.append(maxIdx + 1)\n",
    "        else:\n",
    "            if not isinstance(retUnknown, np.ndarray):\n",
    "                retUnknown = new.copy()\n",
    "            else:\n",
    "                retUnknown = np.concatenate([retUnknown, new], axis=0)\n",
    "\n",
    "        i += SLIDING_STEP\n",
    "        \n",
    "    return retx, one_hot(rety), retUnknown\n",
    "\n",
    "def one_hot(arr):\n",
    "    ret = []\n",
    "    for val in arr:\n",
    "        tmp = [0] * CLASS_NUMBER\n",
    "        if val > 0:\n",
    "            tmp[val - 1] = 1\n",
    "        ret.append(np.array(tmp))\n",
    "        \n",
    "    return np.array(ret)    \n",
    "\n",
    "def emdSignal(sig):\n",
    "    dataNumber = sig.shape[0]\n",
    "    channel = sig.shape[-1]\n",
    "    ret = None\n",
    "    \n",
    "    for i in range(dataNumber):\n",
    "        temp = None\n",
    "        \n",
    "        for c in range(channel):\n",
    "            raw = sig[i, :, c]\n",
    "            imf = emd.sift.sift(raw, max_imfs=NUM_IMF, imf_opts={'sd_thresh': 0.1})\n",
    "            \n",
    "            if imf.shape[-1] < NUM_IMF:\n",
    "                compensate = np.zeros((WINDOW_SIZE, NUM_IMF - imf.shape[-1]))\n",
    "                imf = np.concatenate([imf, compensate], axis = 1)\n",
    "            \n",
    "            if not type(temp) == np.ndarray: \n",
    "                temp = imf\n",
    "            else: \n",
    "                temp = np.concatenate([temp, imf], axis = 1)\n",
    "            \n",
    "        if type(temp) == np.ndarray: \n",
    "            if not type(ret) == np.ndarray: \n",
    "                ret = temp[np.newaxis, :]\n",
    "            else: \n",
    "                ret = np.concatenate([ret, temp[np.newaxis, :]], axis = 0)\n",
    "                \n",
    "    return ret\n",
    "\n",
    "def buildModel(shape):\n",
    "    model = tf.keras.Sequential([\n",
    "        tf.keras.layers.Input(shape = shape),\n",
    "        tf.keras.layers.Conv1D(int(WINDOW_SIZE * 0.4 // 3), int(WINDOW_SIZE * 0.5 // 3), padding='same', activation='relu'),\n",
    "        tf.keras.layers.BatchNormalization(axis=1),\n",
    "        tf.keras.layers.MaxPool1D(padding='same'),\n",
    "        tf.keras.layers.Dropout(0.2),\n",
    "        tf.keras.layers.Conv1D(int(WINDOW_SIZE * 0.5 // 3), int(WINDOW_SIZE * 0.6 // 3), padding='same', activation='relu'),\n",
    "        tf.keras.layers.BatchNormalization(axis=1),\n",
    "        tf.keras.layers.MaxPool1D(padding='same'),\n",
    "        tf.keras.layers.Dropout(0.2),\n",
    "        tf.keras.layers.Conv1D(int(WINDOW_SIZE * 0.6 // 3), int(WINDOW_SIZE / 1.2 * 0.7 // 3), padding='same', activation='relu'),\n",
    "        tf.keras.layers.BatchNormalization(axis=1),\n",
    "        tf.keras.layers.MaxPool1D(padding='same'),\n",
    "        tf.keras.layers.Dropout(0.05),\n",
    "        tf.keras.layers.Flatten(),\n",
    "        tf.keras.layers.Dense((WINDOW_SIZE // 100) * 256, activation='relu'),\n",
    "        tf.keras.layers.Dense(CLASS_NUMBER, activation='softmax')]\n",
    "    )\n",
    "    model.compile(optimizer='adam',\n",
    "                loss=tf.keras.losses.CategoricalCrossentropy(),\n",
    "                metrics=[tf.keras.metrics.CategoricalAccuracy()])\n",
    "                        #  tf.keras.metrics.Precision(thresholds = 0.5),\n",
    "                        #  tf.keras.metrics.Recall(thresholds= 0.5)])\n",
    "    return model"
   ]
  },
  {
   "cell_type": "code",
   "execution_count": 81,
   "metadata": {},
   "outputs": [
    {
     "name": "stdout",
     "output_type": "stream",
     "text": [
      "Number of X: 932, unknown X: 1118\n"
     ]
    }
   ],
   "source": [
    "#Load, preprocess and split record files\n",
    "trainSignalFiles = [\"2023_Mar_29_170717_l5m6r7_record_X\", \"2023_Mar_29_191038_l5m6r7_record_X\"]\n",
    "trainLabelFiles = [x[:-1] + 'y' for x in trainSignalFiles]\n",
    "\n",
    "\n",
    "numX = 0\n",
    "numUX = 0\n",
    "sigPLot = None\n",
    "trainSignal, trainLabel, unknownActions = [], [], []\n",
    "for sfp, lfp in zip(trainSignalFiles, trainLabelFiles):\n",
    "    tempSig = np.load(\"./data/\" + sfp + \".npy\")[INITIAL_PULSE:]\n",
    "    tempLbl = np.load(\"./data/\" + lfp + \".npy\")[INITIAL_PULSE:]\n",
    "    sigPLot = tempSig if not isinstance(sigPLot, np.ndarray) else np.concatenate([sigPLot, tempSig], axis=0)\n",
    "    X, y, X_unknown = slicing(tempSig, tempLbl)\n",
    "    trainSignal.append(X)\n",
    "    trainLabel.append(y)\n",
    "    unknownActions.append(X_unknown)\n",
    "    numX += X.shape[0]\n",
    "    numUX += X_unknown.shape[0]\n",
    "\n",
    "print(\"Number of X: {}, unknown X: {}\".format(numX, numUX))"
   ]
  },
  {
   "cell_type": "code",
   "execution_count": null,
   "metadata": {},
   "outputs": [],
   "source": [
    "px.line(sigPLot)"
   ]
  },
  {
   "cell_type": "code",
   "execution_count": 82,
   "metadata": {},
   "outputs": [
    {
     "name": "stdout",
     "output_type": "stream",
     "text": [
      "(892, 100, 3) (225, 100, 3) (494, 100, 3)\n"
     ]
    }
   ],
   "source": [
    "X_train = None\n",
    "X_test = None\n",
    "y_train = None\n",
    "y_test = None\n",
    "for x, y, u in zip(trainSignal, trainLabel, unknownActions):\n",
    "    if x.shape[0] // CLASS_NUMBER < u.shape[0]:\n",
    "        X_unknown_add = u[np.random.choice(u.shape[0], size = int(x.shape[0] // CLASS_NUMBER), replace = False)]\n",
    "        y_unknown_add = (np.random.rand(int(x.shape[0] // CLASS_NUMBER), CLASS_NUMBER) * 0.1 + 0.15)\n",
    "    else:\n",
    "        X_unknown_add = u\n",
    "        y_unknown_add = (np.random.rand(u.shape[0], CLASS_NUMBER) * 0.1 + 0.15)\n",
    "\n",
    "    Xt = np.concatenate([x, X_unknown_add], axis = 0)\n",
    "    yt = np.concatenate([y, y_unknown_add], axis = 0)\n",
    "        \n",
    "    xtr, xte, ytr, yte = train_test_split(Xt, yt, test_size=0.2, random_state=343)\n",
    "    if not isinstance(X_train, np.ndarray):\n",
    "        X_train = xtr\n",
    "        X_test = xte\n",
    "        y_train = ytr\n",
    "        y_test = yte\n",
    "    else:\n",
    "        X_train = np.concatenate([X_train, xtr], axis=0)\n",
    "        X_test = np.concatenate([X_test, xte], axis=0)\n",
    "        y_train = np.concatenate([y_train, ytr], axis=0)\n",
    "        y_test = np.concatenate([y_test, yte], axis=0)\n",
    "\n",
    "print(X_train.shape, X_test.shape, X_unknown.shape)"
   ]
  },
  {
   "cell_type": "code",
   "execution_count": 83,
   "metadata": {},
   "outputs": [],
   "source": [
    "#Empirical Mode Decomposotion\n",
    "X_train = emdSignal(X_train)\n",
    "X_test = emdSignal(X_test)"
   ]
  },
  {
   "cell_type": "code",
   "execution_count": 84,
   "metadata": {},
   "outputs": [],
   "source": [
    "#Unknown actions & EMD\n",
    "X_unknown = None\n",
    "for u in unknownActions:\n",
    "    if not isinstance(X_unknown, np.ndarray):\n",
    "        X_unknown = u\n",
    "    else:\n",
    "        X_unknown = np.concatenate([X_unknown, u], axis=0)\n",
    "X_unknown = emdSignal(X_unknown)"
   ]
  },
  {
   "cell_type": "code",
   "execution_count": 85,
   "metadata": {},
   "outputs": [],
   "source": [
    "#Combine new signal with processed signal\n",
    "pTrainSignalFiles = [\"230326_X_train\"]\n",
    "pTrainLabelFiles = [x.replace('X', 'y') for x in pTrainSignalFiles]\n",
    "pTestSignalFiles = [\"230326_X_test\"]\n",
    "pTestLabelFiles = [x.replace('X', 'y') for x in pTestSignalFiles]\n",
    "pUnknownSignalFiles = [\"230326_X_Unknown\"]\n",
    "\n",
    "if len(pTrainSignalFiles):\n",
    "    for ptsf, ptlf in zip(pTrainSignalFiles, pTrainLabelFiles):\n",
    "        X_train = np.concatenate([X_train, np.load(\"./data/emd/\" + ptsf + \".npy\")])\n",
    "        y_train = np.concatenate([y_train, np.load(\"./data/emd/\" + ptlf + \".npy\")])\n",
    "    for ptsf, ptlf in zip(pTestSignalFiles, pTestLabelFiles):\n",
    "        X_test = np.concatenate([X_test, np.load(\"./data/emd/\" + ptsf + \".npy\")])\n",
    "        y_test = np.concatenate([y_test, np.load(\"./data/emd/\" + ptlf + \".npy\")])\n",
    "    for pusf in pUnknownSignalFiles:\n",
    "        X_unknown = np.concatenate([X_unknown, np.load(\"./data/emd/\" + pusf + \".npy\")])"
   ]
  },
  {
   "cell_type": "code",
   "execution_count": 10,
   "metadata": {},
   "outputs": [],
   "source": [
    "#Save processed signal\n",
    "np.save(\"./data/emd/230326_X_train\", X_train)\n",
    "np.save(\"./data/emd/230326_y_train\", y_train)\n",
    "np.save(\"./data/emd/230326_X_test\", X_test)\n",
    "np.save(\"./data/emd/230326_y_test\", y_test)\n",
    "np.save(\"./data/emd/230326_X_unknown\", X_unknown)"
   ]
  },
  {
   "cell_type": "code",
   "execution_count": 86,
   "metadata": {},
   "outputs": [
    {
     "name": "stdout",
     "output_type": "stream",
     "text": [
      "Model: \"sequential_4\"\n",
      "_________________________________________________________________\n",
      " Layer (type)                Output Shape              Param #   \n",
      "=================================================================\n",
      " conv1d_12 (Conv1D)          (None, 100, 13)           1885      \n",
      "                                                                 \n",
      " batch_normalization_12 (Bat  (None, 100, 13)          400       \n",
      " chNormalization)                                                \n",
      "                                                                 \n",
      " max_pooling1d_12 (MaxPoolin  (None, 50, 13)           0         \n",
      " g1D)                                                            \n",
      "                                                                 \n",
      " dropout_12 (Dropout)        (None, 50, 13)            0         \n",
      "                                                                 \n",
      " conv1d_13 (Conv1D)          (None, 50, 16)            4176      \n",
      "                                                                 \n",
      " batch_normalization_13 (Bat  (None, 50, 16)           200       \n",
      " chNormalization)                                                \n",
      "                                                                 \n",
      " max_pooling1d_13 (MaxPoolin  (None, 25, 16)           0         \n",
      " g1D)                                                            \n",
      "                                                                 \n",
      " dropout_13 (Dropout)        (None, 25, 16)            0         \n",
      "                                                                 \n",
      " conv1d_14 (Conv1D)          (None, 25, 20)            6100      \n",
      "                                                                 \n",
      " batch_normalization_14 (Bat  (None, 25, 20)           100       \n",
      " chNormalization)                                                \n",
      "                                                                 \n",
      " max_pooling1d_14 (MaxPoolin  (None, 13, 20)           0         \n",
      " g1D)                                                            \n",
      "                                                                 \n",
      " dropout_14 (Dropout)        (None, 13, 20)            0         \n",
      "                                                                 \n",
      " flatten_4 (Flatten)         (None, 260)               0         \n",
      "                                                                 \n",
      " dense_8 (Dense)             (None, 256)               66816     \n",
      "                                                                 \n",
      " dense_9 (Dense)             (None, 5)                 1285      \n",
      "                                                                 \n",
      "=================================================================\n",
      "Total params: 80,962\n",
      "Trainable params: 80,612\n",
      "Non-trainable params: 350\n",
      "_________________________________________________________________\n",
      "Epoch 1/50\n",
      "163/163 [==============================] - 2s 10ms/step - loss: 1.4129 - categorical_accuracy: 0.3806 - val_loss: 1.3070 - val_categorical_accuracy: 0.3846\n",
      "Epoch 2/50\n",
      "163/163 [==============================] - 1s 6ms/step - loss: 1.2426 - categorical_accuracy: 0.4308 - val_loss: 1.2340 - val_categorical_accuracy: 0.4404\n",
      "Epoch 3/50\n",
      "163/163 [==============================] - 1s 6ms/step - loss: 1.1907 - categorical_accuracy: 0.4594 - val_loss: 1.1962 - val_categorical_accuracy: 0.4679\n",
      "Epoch 4/50\n",
      "163/163 [==============================] - 1s 6ms/step - loss: 1.1438 - categorical_accuracy: 0.5102 - val_loss: 1.1607 - val_categorical_accuracy: 0.5015\n",
      "Epoch 5/50\n",
      "163/163 [==============================] - 1s 6ms/step - loss: 1.0980 - categorical_accuracy: 0.5329 - val_loss: 1.1294 - val_categorical_accuracy: 0.5390\n",
      "Epoch 6/50\n",
      "163/163 [==============================] - 1s 6ms/step - loss: 1.0643 - categorical_accuracy: 0.5682 - val_loss: 1.1449 - val_categorical_accuracy: 0.5222\n",
      "Epoch 7/50\n",
      "163/163 [==============================] - 1s 6ms/step - loss: 1.0289 - categorical_accuracy: 0.5794 - val_loss: 1.0784 - val_categorical_accuracy: 0.5528\n",
      "Epoch 8/50\n",
      "163/163 [==============================] - 1s 6ms/step - loss: 0.9937 - categorical_accuracy: 0.5978 - val_loss: 1.0758 - val_categorical_accuracy: 0.5375\n",
      "Epoch 9/50\n",
      "163/163 [==============================] - 1s 6ms/step - loss: 0.9566 - categorical_accuracy: 0.6236 - val_loss: 1.0630 - val_categorical_accuracy: 0.5742\n",
      "Epoch 10/50\n",
      "163/163 [==============================] - 1s 6ms/step - loss: 0.9309 - categorical_accuracy: 0.6284 - val_loss: 1.0591 - val_categorical_accuracy: 0.5711\n",
      "Epoch 11/50\n",
      "163/163 [==============================] - 1s 6ms/step - loss: 0.9101 - categorical_accuracy: 0.6403 - val_loss: 1.0804 - val_categorical_accuracy: 0.5581\n",
      "Epoch 12/50\n",
      "163/163 [==============================] - 1s 5ms/step - loss: 0.8907 - categorical_accuracy: 0.6482 - val_loss: 1.0644 - val_categorical_accuracy: 0.5734\n",
      "Epoch 13/50\n",
      "163/163 [==============================] - 1s 5ms/step - loss: 0.8745 - categorical_accuracy: 0.6534 - val_loss: 1.1107 - val_categorical_accuracy: 0.5367\n",
      "Epoch 14/50\n",
      "163/163 [==============================] - 1s 5ms/step - loss: 0.8637 - categorical_accuracy: 0.6655 - val_loss: 1.0399 - val_categorical_accuracy: 0.5864\n",
      "Epoch 15/50\n",
      "163/163 [==============================] - 1s 5ms/step - loss: 0.8448 - categorical_accuracy: 0.6624 - val_loss: 1.1140 - val_categorical_accuracy: 0.5520\n",
      "Epoch 16/50\n",
      "163/163 [==============================] - 1s 5ms/step - loss: 0.8164 - categorical_accuracy: 0.6857 - val_loss: 1.0870 - val_categorical_accuracy: 0.5742\n",
      "Epoch 17/50\n",
      "163/163 [==============================] - 1s 5ms/step - loss: 0.8042 - categorical_accuracy: 0.6913 - val_loss: 1.1005 - val_categorical_accuracy: 0.5742\n",
      "Epoch 18/50\n",
      "163/163 [==============================] - 1s 6ms/step - loss: 0.7922 - categorical_accuracy: 0.7003 - val_loss: 1.0782 - val_categorical_accuracy: 0.5864\n",
      "Epoch 19/50\n",
      "163/163 [==============================] - 1s 5ms/step - loss: 0.7742 - categorical_accuracy: 0.7024 - val_loss: 1.0845 - val_categorical_accuracy: 0.5948\n",
      "Epoch 20/50\n",
      "163/163 [==============================] - 1s 5ms/step - loss: 0.7651 - categorical_accuracy: 0.7093 - val_loss: 1.1189 - val_categorical_accuracy: 0.5856\n",
      "Epoch 21/50\n",
      "163/163 [==============================] - 1s 6ms/step - loss: 0.7427 - categorical_accuracy: 0.7228 - val_loss: 1.0990 - val_categorical_accuracy: 0.5657\n",
      "Epoch 22/50\n",
      "163/163 [==============================] - 1s 5ms/step - loss: 0.7459 - categorical_accuracy: 0.7197 - val_loss: 1.0791 - val_categorical_accuracy: 0.5810\n",
      "Epoch 23/50\n",
      "163/163 [==============================] - 1s 5ms/step - loss: 0.7349 - categorical_accuracy: 0.7141 - val_loss: 1.0827 - val_categorical_accuracy: 0.5933\n",
      "Epoch 24/50\n",
      "163/163 [==============================] - 1s 6ms/step - loss: 0.7245 - categorical_accuracy: 0.7220 - val_loss: 1.1622 - val_categorical_accuracy: 0.5558\n",
      "Epoch 25/50\n",
      "163/163 [==============================] - 1s 5ms/step - loss: 0.7084 - categorical_accuracy: 0.7343 - val_loss: 1.1366 - val_categorical_accuracy: 0.5879\n",
      "Epoch 26/50\n",
      "163/163 [==============================] - 1s 5ms/step - loss: 0.6987 - categorical_accuracy: 0.7386 - val_loss: 1.1176 - val_categorical_accuracy: 0.5673\n",
      "Epoch 27/50\n",
      "163/163 [==============================] - 1s 5ms/step - loss: 0.6860 - categorical_accuracy: 0.7376 - val_loss: 1.1201 - val_categorical_accuracy: 0.5818\n",
      "Epoch 28/50\n",
      "163/163 [==============================] - 1s 5ms/step - loss: 0.6822 - categorical_accuracy: 0.7438 - val_loss: 1.1959 - val_categorical_accuracy: 0.5826\n",
      "Epoch 29/50\n",
      "163/163 [==============================] - 1s 5ms/step - loss: 0.6760 - categorical_accuracy: 0.7407 - val_loss: 1.1110 - val_categorical_accuracy: 0.5719\n",
      "Epoch 30/50\n",
      "163/163 [==============================] - 1s 5ms/step - loss: 0.6417 - categorical_accuracy: 0.7620 - val_loss: 1.1599 - val_categorical_accuracy: 0.5925\n",
      "Epoch 31/50\n",
      "163/163 [==============================] - 1s 5ms/step - loss: 0.6486 - categorical_accuracy: 0.7641 - val_loss: 1.1693 - val_categorical_accuracy: 0.5711\n",
      "Epoch 32/50\n",
      "163/163 [==============================] - 1s 5ms/step - loss: 0.6461 - categorical_accuracy: 0.7622 - val_loss: 1.1684 - val_categorical_accuracy: 0.5856\n",
      "Epoch 33/50\n",
      "163/163 [==============================] - 1s 5ms/step - loss: 0.6279 - categorical_accuracy: 0.7651 - val_loss: 1.2258 - val_categorical_accuracy: 0.5849\n",
      "Epoch 34/50\n",
      "163/163 [==============================] - 1s 5ms/step - loss: 0.6332 - categorical_accuracy: 0.7682 - val_loss: 1.1654 - val_categorical_accuracy: 0.5780\n",
      "Epoch 35/50\n",
      "163/163 [==============================] - 1s 5ms/step - loss: 0.6260 - categorical_accuracy: 0.7637 - val_loss: 1.1351 - val_categorical_accuracy: 0.6070\n",
      "Epoch 36/50\n",
      "163/163 [==============================] - 1s 5ms/step - loss: 0.6147 - categorical_accuracy: 0.7707 - val_loss: 1.1616 - val_categorical_accuracy: 0.5879\n",
      "Epoch 37/50\n",
      "163/163 [==============================] - 1s 5ms/step - loss: 0.6117 - categorical_accuracy: 0.7753 - val_loss: 1.1246 - val_categorical_accuracy: 0.5963\n",
      "Epoch 38/50\n",
      "163/163 [==============================] - 1s 5ms/step - loss: 0.6130 - categorical_accuracy: 0.7776 - val_loss: 1.1368 - val_categorical_accuracy: 0.5841\n",
      "Epoch 39/50\n",
      "163/163 [==============================] - 1s 5ms/step - loss: 0.6028 - categorical_accuracy: 0.7785 - val_loss: 1.1591 - val_categorical_accuracy: 0.5933\n",
      "Epoch 40/50\n",
      "163/163 [==============================] - 1s 5ms/step - loss: 0.5959 - categorical_accuracy: 0.7810 - val_loss: 1.2454 - val_categorical_accuracy: 0.5696\n",
      "Epoch 41/50\n",
      "163/163 [==============================] - 1s 5ms/step - loss: 0.5750 - categorical_accuracy: 0.7945 - val_loss: 1.2001 - val_categorical_accuracy: 0.5940\n",
      "Epoch 42/50\n",
      "163/163 [==============================] - 1s 5ms/step - loss: 0.5843 - categorical_accuracy: 0.7872 - val_loss: 1.1683 - val_categorical_accuracy: 0.5917\n",
      "Epoch 43/50\n",
      "163/163 [==============================] - 1s 5ms/step - loss: 0.5841 - categorical_accuracy: 0.7857 - val_loss: 1.1677 - val_categorical_accuracy: 0.5925\n",
      "Epoch 44/50\n",
      "163/163 [==============================] - 1s 5ms/step - loss: 0.5824 - categorical_accuracy: 0.7887 - val_loss: 1.1627 - val_categorical_accuracy: 0.5910\n",
      "Epoch 45/50\n",
      "163/163 [==============================] - 1s 5ms/step - loss: 0.5818 - categorical_accuracy: 0.7905 - val_loss: 1.1682 - val_categorical_accuracy: 0.5979\n",
      "Epoch 46/50\n",
      "163/163 [==============================] - 1s 5ms/step - loss: 0.5544 - categorical_accuracy: 0.7928 - val_loss: 1.2035 - val_categorical_accuracy: 0.5933\n",
      "Epoch 47/50\n",
      "163/163 [==============================] - 1s 5ms/step - loss: 0.5516 - categorical_accuracy: 0.7968 - val_loss: 1.2161 - val_categorical_accuracy: 0.5856\n",
      "Epoch 48/50\n",
      "163/163 [==============================] - 1s 6ms/step - loss: 0.5525 - categorical_accuracy: 0.8072 - val_loss: 1.1875 - val_categorical_accuracy: 0.5910\n",
      "Epoch 49/50\n",
      "163/163 [==============================] - 1s 5ms/step - loss: 0.5433 - categorical_accuracy: 0.8022 - val_loss: 1.2257 - val_categorical_accuracy: 0.5994\n",
      "Epoch 50/50\n",
      "163/163 [==============================] - 1s 5ms/step - loss: 0.5391 - categorical_accuracy: 0.8010 - val_loss: 1.2736 - val_categorical_accuracy: 0.5933\n"
     ]
    }
   ],
   "source": [
    "#Training\n",
    "model = buildModel(X_train.shape[1:])\n",
    "model.summary()\n",
    "history = model.fit(x=X_train,\n",
    "                    y=y_train,\n",
    "                    batch_size=BATCH_SIZE,\n",
    "                    epochs=50,\n",
    "                    validation_data=[X_test, y_test])"
   ]
  },
  {
   "cell_type": "code",
   "execution_count": 87,
   "metadata": {},
   "outputs": [
    {
     "data": {
      "application/vnd.plotly.v1+json": {
       "config": {
        "plotlyServerURL": "https://plot.ly"
       },
       "data": [
        {
         "hovertemplate": "variable=loss<br>index=%{x}<br>value=%{y}<extra></extra>",
         "legendgroup": "loss",
         "line": {
          "color": "#636efa",
          "dash": "solid"
         },
         "marker": {
          "symbol": "circle"
         },
         "mode": "lines",
         "name": "loss",
         "orientation": "v",
         "showlegend": true,
         "type": "scatter",
         "x": [
          0,
          1,
          2,
          3,
          4,
          5,
          6,
          7,
          8,
          9,
          10,
          11,
          12,
          13,
          14,
          15,
          16,
          17,
          18,
          19,
          20,
          21,
          22,
          23,
          24,
          25,
          26,
          27,
          28,
          29,
          30,
          31,
          32,
          33,
          34,
          35,
          36,
          37,
          38,
          39,
          40,
          41,
          42,
          43,
          44,
          45,
          46,
          47,
          48,
          49
         ],
         "xaxis": "x",
         "y": [
          1.41292142868042,
          1.2425506114959717,
          1.1907161474227905,
          1.143844485282898,
          1.097968578338623,
          1.0643341541290283,
          1.0289262533187866,
          0.9936750531196594,
          0.9566298723220825,
          0.9309289455413818,
          0.9101333618164062,
          0.8907290101051331,
          0.874499499797821,
          0.8637182712554932,
          0.8448324203491211,
          0.8163955211639404,
          0.8042176365852356,
          0.7922009229660034,
          0.7741613984107971,
          0.7650802135467529,
          0.7426666021347046,
          0.7459433674812317,
          0.7348880767822266,
          0.7245463132858276,
          0.7083566188812256,
          0.698697030544281,
          0.6860109567642212,
          0.6822218298912048,
          0.676049530506134,
          0.6416798233985901,
          0.6486223340034485,
          0.6460989713668823,
          0.6279000043869019,
          0.6332283020019531,
          0.6260049343109131,
          0.6147496700286865,
          0.6117229461669922,
          0.6130469441413879,
          0.6028367877006531,
          0.5958570837974548,
          0.5749852657318115,
          0.5843358039855957,
          0.5840737223625183,
          0.58236163854599,
          0.5818359851837158,
          0.5544025301933289,
          0.551613450050354,
          0.5525144338607788,
          0.5433383584022522,
          0.5391286015510559
         ],
         "yaxis": "y"
        },
        {
         "hovertemplate": "variable=val_loss<br>index=%{x}<br>value=%{y}<extra></extra>",
         "legendgroup": "val_loss",
         "line": {
          "color": "#EF553B",
          "dash": "solid"
         },
         "marker": {
          "symbol": "circle"
         },
         "mode": "lines",
         "name": "val_loss",
         "orientation": "v",
         "showlegend": true,
         "type": "scatter",
         "x": [
          0,
          1,
          2,
          3,
          4,
          5,
          6,
          7,
          8,
          9,
          10,
          11,
          12,
          13,
          14,
          15,
          16,
          17,
          18,
          19,
          20,
          21,
          22,
          23,
          24,
          25,
          26,
          27,
          28,
          29,
          30,
          31,
          32,
          33,
          34,
          35,
          36,
          37,
          38,
          39,
          40,
          41,
          42,
          43,
          44,
          45,
          46,
          47,
          48,
          49
         ],
         "xaxis": "x",
         "y": [
          1.3070138692855835,
          1.2340315580368042,
          1.196229338645935,
          1.160732626914978,
          1.1294139623641968,
          1.1449403762817383,
          1.0784146785736084,
          1.0757865905761719,
          1.062983751296997,
          1.0590835809707642,
          1.0803767442703247,
          1.0644352436065674,
          1.1106681823730469,
          1.0398987531661987,
          1.1140129566192627,
          1.0870305299758911,
          1.1004694700241089,
          1.0782026052474976,
          1.0844950675964355,
          1.118904709815979,
          1.0989927053451538,
          1.0790627002716064,
          1.0827449560165405,
          1.1621631383895874,
          1.13664710521698,
          1.1175906658172607,
          1.1200783252716064,
          1.195921778678894,
          1.1110354661941528,
          1.1598725318908691,
          1.169252872467041,
          1.168440580368042,
          1.2257829904556274,
          1.1653854846954346,
          1.1351299285888672,
          1.1615508794784546,
          1.124566912651062,
          1.136823296546936,
          1.1591259241104126,
          1.2454098463058472,
          1.2001385688781738,
          1.1683390140533447,
          1.1676820516586304,
          1.1627275943756104,
          1.1681897640228271,
          1.203453540802002,
          1.2161040306091309,
          1.1875208616256714,
          1.2257412672042847,
          1.2735778093338013
         ],
         "yaxis": "y"
        }
       ],
       "layout": {
        "legend": {
         "title": {
          "text": "variable"
         },
         "tracegroupgap": 0
        },
        "margin": {
         "t": 60
        },
        "template": {
         "data": {
          "bar": [
           {
            "error_x": {
             "color": "#2a3f5f"
            },
            "error_y": {
             "color": "#2a3f5f"
            },
            "marker": {
             "line": {
              "color": "#E5ECF6",
              "width": 0.5
             },
             "pattern": {
              "fillmode": "overlay",
              "size": 10,
              "solidity": 0.2
             }
            },
            "type": "bar"
           }
          ],
          "barpolar": [
           {
            "marker": {
             "line": {
              "color": "#E5ECF6",
              "width": 0.5
             },
             "pattern": {
              "fillmode": "overlay",
              "size": 10,
              "solidity": 0.2
             }
            },
            "type": "barpolar"
           }
          ],
          "carpet": [
           {
            "aaxis": {
             "endlinecolor": "#2a3f5f",
             "gridcolor": "white",
             "linecolor": "white",
             "minorgridcolor": "white",
             "startlinecolor": "#2a3f5f"
            },
            "baxis": {
             "endlinecolor": "#2a3f5f",
             "gridcolor": "white",
             "linecolor": "white",
             "minorgridcolor": "white",
             "startlinecolor": "#2a3f5f"
            },
            "type": "carpet"
           }
          ],
          "choropleth": [
           {
            "colorbar": {
             "outlinewidth": 0,
             "ticks": ""
            },
            "type": "choropleth"
           }
          ],
          "contour": [
           {
            "colorbar": {
             "outlinewidth": 0,
             "ticks": ""
            },
            "colorscale": [
             [
              0,
              "#0d0887"
             ],
             [
              0.1111111111111111,
              "#46039f"
             ],
             [
              0.2222222222222222,
              "#7201a8"
             ],
             [
              0.3333333333333333,
              "#9c179e"
             ],
             [
              0.4444444444444444,
              "#bd3786"
             ],
             [
              0.5555555555555556,
              "#d8576b"
             ],
             [
              0.6666666666666666,
              "#ed7953"
             ],
             [
              0.7777777777777778,
              "#fb9f3a"
             ],
             [
              0.8888888888888888,
              "#fdca26"
             ],
             [
              1,
              "#f0f921"
             ]
            ],
            "type": "contour"
           }
          ],
          "contourcarpet": [
           {
            "colorbar": {
             "outlinewidth": 0,
             "ticks": ""
            },
            "type": "contourcarpet"
           }
          ],
          "heatmap": [
           {
            "colorbar": {
             "outlinewidth": 0,
             "ticks": ""
            },
            "colorscale": [
             [
              0,
              "#0d0887"
             ],
             [
              0.1111111111111111,
              "#46039f"
             ],
             [
              0.2222222222222222,
              "#7201a8"
             ],
             [
              0.3333333333333333,
              "#9c179e"
             ],
             [
              0.4444444444444444,
              "#bd3786"
             ],
             [
              0.5555555555555556,
              "#d8576b"
             ],
             [
              0.6666666666666666,
              "#ed7953"
             ],
             [
              0.7777777777777778,
              "#fb9f3a"
             ],
             [
              0.8888888888888888,
              "#fdca26"
             ],
             [
              1,
              "#f0f921"
             ]
            ],
            "type": "heatmap"
           }
          ],
          "heatmapgl": [
           {
            "colorbar": {
             "outlinewidth": 0,
             "ticks": ""
            },
            "colorscale": [
             [
              0,
              "#0d0887"
             ],
             [
              0.1111111111111111,
              "#46039f"
             ],
             [
              0.2222222222222222,
              "#7201a8"
             ],
             [
              0.3333333333333333,
              "#9c179e"
             ],
             [
              0.4444444444444444,
              "#bd3786"
             ],
             [
              0.5555555555555556,
              "#d8576b"
             ],
             [
              0.6666666666666666,
              "#ed7953"
             ],
             [
              0.7777777777777778,
              "#fb9f3a"
             ],
             [
              0.8888888888888888,
              "#fdca26"
             ],
             [
              1,
              "#f0f921"
             ]
            ],
            "type": "heatmapgl"
           }
          ],
          "histogram": [
           {
            "marker": {
             "pattern": {
              "fillmode": "overlay",
              "size": 10,
              "solidity": 0.2
             }
            },
            "type": "histogram"
           }
          ],
          "histogram2d": [
           {
            "colorbar": {
             "outlinewidth": 0,
             "ticks": ""
            },
            "colorscale": [
             [
              0,
              "#0d0887"
             ],
             [
              0.1111111111111111,
              "#46039f"
             ],
             [
              0.2222222222222222,
              "#7201a8"
             ],
             [
              0.3333333333333333,
              "#9c179e"
             ],
             [
              0.4444444444444444,
              "#bd3786"
             ],
             [
              0.5555555555555556,
              "#d8576b"
             ],
             [
              0.6666666666666666,
              "#ed7953"
             ],
             [
              0.7777777777777778,
              "#fb9f3a"
             ],
             [
              0.8888888888888888,
              "#fdca26"
             ],
             [
              1,
              "#f0f921"
             ]
            ],
            "type": "histogram2d"
           }
          ],
          "histogram2dcontour": [
           {
            "colorbar": {
             "outlinewidth": 0,
             "ticks": ""
            },
            "colorscale": [
             [
              0,
              "#0d0887"
             ],
             [
              0.1111111111111111,
              "#46039f"
             ],
             [
              0.2222222222222222,
              "#7201a8"
             ],
             [
              0.3333333333333333,
              "#9c179e"
             ],
             [
              0.4444444444444444,
              "#bd3786"
             ],
             [
              0.5555555555555556,
              "#d8576b"
             ],
             [
              0.6666666666666666,
              "#ed7953"
             ],
             [
              0.7777777777777778,
              "#fb9f3a"
             ],
             [
              0.8888888888888888,
              "#fdca26"
             ],
             [
              1,
              "#f0f921"
             ]
            ],
            "type": "histogram2dcontour"
           }
          ],
          "mesh3d": [
           {
            "colorbar": {
             "outlinewidth": 0,
             "ticks": ""
            },
            "type": "mesh3d"
           }
          ],
          "parcoords": [
           {
            "line": {
             "colorbar": {
              "outlinewidth": 0,
              "ticks": ""
             }
            },
            "type": "parcoords"
           }
          ],
          "pie": [
           {
            "automargin": true,
            "type": "pie"
           }
          ],
          "scatter": [
           {
            "fillpattern": {
             "fillmode": "overlay",
             "size": 10,
             "solidity": 0.2
            },
            "type": "scatter"
           }
          ],
          "scatter3d": [
           {
            "line": {
             "colorbar": {
              "outlinewidth": 0,
              "ticks": ""
             }
            },
            "marker": {
             "colorbar": {
              "outlinewidth": 0,
              "ticks": ""
             }
            },
            "type": "scatter3d"
           }
          ],
          "scattercarpet": [
           {
            "marker": {
             "colorbar": {
              "outlinewidth": 0,
              "ticks": ""
             }
            },
            "type": "scattercarpet"
           }
          ],
          "scattergeo": [
           {
            "marker": {
             "colorbar": {
              "outlinewidth": 0,
              "ticks": ""
             }
            },
            "type": "scattergeo"
           }
          ],
          "scattergl": [
           {
            "marker": {
             "colorbar": {
              "outlinewidth": 0,
              "ticks": ""
             }
            },
            "type": "scattergl"
           }
          ],
          "scattermapbox": [
           {
            "marker": {
             "colorbar": {
              "outlinewidth": 0,
              "ticks": ""
             }
            },
            "type": "scattermapbox"
           }
          ],
          "scatterpolar": [
           {
            "marker": {
             "colorbar": {
              "outlinewidth": 0,
              "ticks": ""
             }
            },
            "type": "scatterpolar"
           }
          ],
          "scatterpolargl": [
           {
            "marker": {
             "colorbar": {
              "outlinewidth": 0,
              "ticks": ""
             }
            },
            "type": "scatterpolargl"
           }
          ],
          "scatterternary": [
           {
            "marker": {
             "colorbar": {
              "outlinewidth": 0,
              "ticks": ""
             }
            },
            "type": "scatterternary"
           }
          ],
          "surface": [
           {
            "colorbar": {
             "outlinewidth": 0,
             "ticks": ""
            },
            "colorscale": [
             [
              0,
              "#0d0887"
             ],
             [
              0.1111111111111111,
              "#46039f"
             ],
             [
              0.2222222222222222,
              "#7201a8"
             ],
             [
              0.3333333333333333,
              "#9c179e"
             ],
             [
              0.4444444444444444,
              "#bd3786"
             ],
             [
              0.5555555555555556,
              "#d8576b"
             ],
             [
              0.6666666666666666,
              "#ed7953"
             ],
             [
              0.7777777777777778,
              "#fb9f3a"
             ],
             [
              0.8888888888888888,
              "#fdca26"
             ],
             [
              1,
              "#f0f921"
             ]
            ],
            "type": "surface"
           }
          ],
          "table": [
           {
            "cells": {
             "fill": {
              "color": "#EBF0F8"
             },
             "line": {
              "color": "white"
             }
            },
            "header": {
             "fill": {
              "color": "#C8D4E3"
             },
             "line": {
              "color": "white"
             }
            },
            "type": "table"
           }
          ]
         },
         "layout": {
          "annotationdefaults": {
           "arrowcolor": "#2a3f5f",
           "arrowhead": 0,
           "arrowwidth": 1
          },
          "autotypenumbers": "strict",
          "coloraxis": {
           "colorbar": {
            "outlinewidth": 0,
            "ticks": ""
           }
          },
          "colorscale": {
           "diverging": [
            [
             0,
             "#8e0152"
            ],
            [
             0.1,
             "#c51b7d"
            ],
            [
             0.2,
             "#de77ae"
            ],
            [
             0.3,
             "#f1b6da"
            ],
            [
             0.4,
             "#fde0ef"
            ],
            [
             0.5,
             "#f7f7f7"
            ],
            [
             0.6,
             "#e6f5d0"
            ],
            [
             0.7,
             "#b8e186"
            ],
            [
             0.8,
             "#7fbc41"
            ],
            [
             0.9,
             "#4d9221"
            ],
            [
             1,
             "#276419"
            ]
           ],
           "sequential": [
            [
             0,
             "#0d0887"
            ],
            [
             0.1111111111111111,
             "#46039f"
            ],
            [
             0.2222222222222222,
             "#7201a8"
            ],
            [
             0.3333333333333333,
             "#9c179e"
            ],
            [
             0.4444444444444444,
             "#bd3786"
            ],
            [
             0.5555555555555556,
             "#d8576b"
            ],
            [
             0.6666666666666666,
             "#ed7953"
            ],
            [
             0.7777777777777778,
             "#fb9f3a"
            ],
            [
             0.8888888888888888,
             "#fdca26"
            ],
            [
             1,
             "#f0f921"
            ]
           ],
           "sequentialminus": [
            [
             0,
             "#0d0887"
            ],
            [
             0.1111111111111111,
             "#46039f"
            ],
            [
             0.2222222222222222,
             "#7201a8"
            ],
            [
             0.3333333333333333,
             "#9c179e"
            ],
            [
             0.4444444444444444,
             "#bd3786"
            ],
            [
             0.5555555555555556,
             "#d8576b"
            ],
            [
             0.6666666666666666,
             "#ed7953"
            ],
            [
             0.7777777777777778,
             "#fb9f3a"
            ],
            [
             0.8888888888888888,
             "#fdca26"
            ],
            [
             1,
             "#f0f921"
            ]
           ]
          },
          "colorway": [
           "#636efa",
           "#EF553B",
           "#00cc96",
           "#ab63fa",
           "#FFA15A",
           "#19d3f3",
           "#FF6692",
           "#B6E880",
           "#FF97FF",
           "#FECB52"
          ],
          "font": {
           "color": "#2a3f5f"
          },
          "geo": {
           "bgcolor": "white",
           "lakecolor": "white",
           "landcolor": "#E5ECF6",
           "showlakes": true,
           "showland": true,
           "subunitcolor": "white"
          },
          "hoverlabel": {
           "align": "left"
          },
          "hovermode": "closest",
          "mapbox": {
           "style": "light"
          },
          "paper_bgcolor": "white",
          "plot_bgcolor": "#E5ECF6",
          "polar": {
           "angularaxis": {
            "gridcolor": "white",
            "linecolor": "white",
            "ticks": ""
           },
           "bgcolor": "#E5ECF6",
           "radialaxis": {
            "gridcolor": "white",
            "linecolor": "white",
            "ticks": ""
           }
          },
          "scene": {
           "xaxis": {
            "backgroundcolor": "#E5ECF6",
            "gridcolor": "white",
            "gridwidth": 2,
            "linecolor": "white",
            "showbackground": true,
            "ticks": "",
            "zerolinecolor": "white"
           },
           "yaxis": {
            "backgroundcolor": "#E5ECF6",
            "gridcolor": "white",
            "gridwidth": 2,
            "linecolor": "white",
            "showbackground": true,
            "ticks": "",
            "zerolinecolor": "white"
           },
           "zaxis": {
            "backgroundcolor": "#E5ECF6",
            "gridcolor": "white",
            "gridwidth": 2,
            "linecolor": "white",
            "showbackground": true,
            "ticks": "",
            "zerolinecolor": "white"
           }
          },
          "shapedefaults": {
           "line": {
            "color": "#2a3f5f"
           }
          },
          "ternary": {
           "aaxis": {
            "gridcolor": "white",
            "linecolor": "white",
            "ticks": ""
           },
           "baxis": {
            "gridcolor": "white",
            "linecolor": "white",
            "ticks": ""
           },
           "bgcolor": "#E5ECF6",
           "caxis": {
            "gridcolor": "white",
            "linecolor": "white",
            "ticks": ""
           }
          },
          "title": {
           "x": 0.05
          },
          "xaxis": {
           "automargin": true,
           "gridcolor": "white",
           "linecolor": "white",
           "ticks": "",
           "title": {
            "standoff": 15
           },
           "zerolinecolor": "white",
           "zerolinewidth": 2
          },
          "yaxis": {
           "automargin": true,
           "gridcolor": "white",
           "linecolor": "white",
           "ticks": "",
           "title": {
            "standoff": 15
           },
           "zerolinecolor": "white",
           "zerolinewidth": 2
          }
         }
        },
        "xaxis": {
         "anchor": "y",
         "domain": [
          0,
          1
         ],
         "title": {
          "text": "index"
         }
        },
        "yaxis": {
         "anchor": "x",
         "domain": [
          0,
          1
         ],
         "title": {
          "text": "value"
         }
        }
       }
      }
     },
     "metadata": {},
     "output_type": "display_data"
    }
   ],
   "source": [
    "f1 = np.array(history.history['loss']).flatten()\n",
    "valf1 = np.array(history.history['val_loss']).flatten()\n",
    "px.line(pd.DataFrame(np.array([f1, valf1]).T, columns=['loss', 'val_loss'])).show()"
   ]
  },
  {
   "cell_type": "code",
   "execution_count": null,
   "metadata": {},
   "outputs": [],
   "source": [
    "model = tf.keras.models.load_model('./model/MTJaw0329')"
   ]
  },
  {
   "cell_type": "code",
   "execution_count": 88,
   "metadata": {},
   "outputs": [],
   "source": [
    "All_X = np.concatenate([X_test, X_unknown])\n",
    "All_y = np.concatenate([y_test, np.array([[0] * CLASS_NUMBER for _ in range(X_unknown.shape[0])])])\n",
    "res = model(All_X)"
   ]
  },
  {
   "cell_type": "code",
   "execution_count": 91,
   "metadata": {},
   "outputs": [
    {
     "name": "stdout",
     "output_type": "stream",
     "text": [
      "Action: undefined action, True: 4630, False: 1378, Accuracy: 0.7706\n",
      "Action: up, True: 58, False: 95, Accuracy: 0.3791\n",
      "Action: down, True: 20, False: 112, Accuracy: 0.1515\n",
      "Action: left, True: 298, False: 206, Accuracy: 0.5913\n",
      "Action: right, True: 214, False: 215, Accuracy: 0.4988\n",
      "Action: quick touch, True: 20, False: 70, Accuracy: 0.2222\n",
      "Left&Right True: 512, False: 421, Accuracy: 0.5488\n",
      "Total True: 5240, False: 2076, Accuracy: 0.7162\n"
     ]
    }
   ],
   "source": [
    "# pd.DataFrame([KEY_CLASS[np.argmax(r) + 1] if any(r) else KEY_CLASS[0] for r in All_y]).value_counts()\n",
    "# pd.DataFrame([KEY_CLASS[np.argmax(r) + 1 if r[np.argmax(r)] > BELIEF_THRESHOLD else 0] for r in res]).value_counts()\n",
    "gj = {}\n",
    "bj = {}\n",
    "tg = 0\n",
    "tb = 0\n",
    "\n",
    "for key, cls in KEY_CLASS.items():\n",
    "    gj[cls] = 0\n",
    "    bj[cls] = 0\n",
    "    \n",
    "for r, p in zip(All_y, res):\n",
    "    rm = KEY_CLASS[np.argmax(r) + 1 if any(r) else 0]\n",
    "    pm = KEY_CLASS[np.argmax(p) + 1 if p[np.argmax(p)] > BELIEF_THRESHOLD else 0]\n",
    "    if rm == pm:\n",
    "        tg += 1\n",
    "        gj[rm] += 1\n",
    "    else:\n",
    "        tb += 1\n",
    "        bj[rm] += 1\n",
    "        \n",
    "for key, cls in KEY_CLASS.items():\n",
    "    print(\"Action: {}, True: {}, False: {}, Accuracy: {:.4f}\".format(cls, gj[cls], bj[cls], gj[cls] / (gj[cls] + bj[cls])))\n",
    "print(\"Left&Right True: {}, False: {}, Accuracy: {:.4f}\".format(gj[\"left\"] + gj[\"right\"], bj[\"left\"] + bj[\"right\"], (gj[\"left\"] + gj[\"right\"]) / (gj[\"left\"] + gj[\"right\"] + bj[\"left\"] + bj[\"right\"])))\n",
    "print(\"Total True: {}, False: {}, Accuracy: {:.4f}\".format(tg, tb, tg / (tg + tb)))"
   ]
  },
  {
   "cell_type": "code",
   "execution_count": null,
   "metadata": {},
   "outputs": [],
   "source": [
    "class GA():\n",
    "    def __init__(self, popSize = 100, maxGen = 100, mr = 0.1, cr = 0.8):\n",
    "        self.popSize = popSize\n",
    "        self.pop = np.random.random(popSize)\n",
    "        self.maxGen = maxGen\n",
    "        self.cr = cr\n",
    "        self.mr = mr\n",
    "\n",
    "    def crossover(self, pa, pb):\n",
    "        if (np.random.random() < self.cr):\n",
    "            alpha = np.clip(np.random.random(), 0.1, 0.9)\n",
    "            oa = pa * alpha + pb * (1 - alpha)\n",
    "            ob = pb * alpha + pa * (1 - alpha)\n",
    "            return oa, ob\n",
    "        else:\n",
    "            return pa, pb\n",
    "    \n",
    "    def mutation(self, i):\n",
    "        pass\n",
    "    \n",
    "def objective(belief):\n",
    "    gj = {}\n",
    "    bj = {}\n",
    "    tg = 0\n",
    "    tb = 0\n",
    "\n",
    "    for key, cls in KEY_CLASS.items():\n",
    "        gj[cls] = 0\n",
    "        bj[cls] = 0\n",
    "        \n",
    "    for r, p in zip(All_y, res):\n",
    "        rm = KEY_CLASS[np.argmax(r) + 1 if any(r) else 0]\n",
    "        pm = KEY_CLASS[np.argmax(p) + 1 if p[np.argmax(p)] > belief else 0]\n",
    "        if rm == pm:\n",
    "            tg += 1\n",
    "            gj[rm] += 1\n",
    "        else:\n",
    "            tb += 1\n",
    "            bj[rm] += 1\n",
    "\n",
    "    undef_acc = gj[\"undefined action\"] / (gj[\"undefined action\"] + bj[\"undefined action\"])\n",
    "    left_acc = gj[\"left\"] / (gj[\"left\"] + bj[\"left\"])\n",
    "    right_acc = gj[\"right\"] / (gj[\"right\"] + bj[\"right\"])\n",
    "    return undef_acc + left_acc + right_acc\n"
   ]
  },
  {
   "cell_type": "code",
   "execution_count": 48,
   "metadata": {},
   "outputs": [],
   "source": [
    "model.save(\"./model/MTJaw0329\", save_format=\"tf\")"
   ]
  },
  {
   "attachments": {},
   "cell_type": "markdown",
   "metadata": {},
   "source": [
    "### Other test"
   ]
  },
  {
   "cell_type": "code",
   "execution_count": 9,
   "metadata": {},
   "outputs": [
    {
     "name": "stdout",
     "output_type": "stream",
     "text": [
      "Number of X: 393, unknown X: 624\n"
     ]
    }
   ],
   "source": [
    "testSignalFiles = [\"2023_Mar_29_170717_l5m6r7_record_X\"]\n",
    "testLabelFiles = [\"2023_Mar_29_170717_l5m6r7_record_y\"]\n",
    "\n",
    "testSignal, testLabel = None, None\n",
    "for sfp, lfp in zip(testSignalFiles, testLabelFiles):\n",
    "    testSignal = np.load(\"./data/\" + sfp + \".npy\")[INITIAL_PULSE:] if not isinstance(testSignal, np.ndarray) else np.concatenate([testSignal, np.load(\"./data/\" + sfp + \".npy\")[INITIAL_PULSE:]], axis=0)\n",
    "    testLabel = np.load(\"./data/\" + lfp + \".npy\")[INITIAL_PULSE:] if not isinstance(testLabel, np.ndarray) else np.concatenate([testLabel, np.load(\"./data/\" + lfp + \".npy\")[INITIAL_PULSE:]], axis=0)\n",
    "\n",
    "X2, y2, X2_unknown = slicing(testSignal, testLabel)\n",
    "print(\"Number of X: {}, unknown X: {}\".format(X2.shape[0], X2_unknown.shape[0]))"
   ]
  },
  {
   "cell_type": "code",
   "execution_count": 10,
   "metadata": {},
   "outputs": [],
   "source": [
    "X2 = emdSignal(X2)\n",
    "# X2_unknown = emdSignal(X2_unknown)\n",
    "# X2t = np.concatenate([X2, X2_unknown], axis=0)\n",
    "# y2t = np.concatenate([y2, np.zeros((X2_unknown.shape[0], CLASS_NUMBER))])"
   ]
  },
  {
   "cell_type": "code",
   "execution_count": 26,
   "metadata": {},
   "outputs": [
    {
     "name": "stdout",
     "output_type": "stream",
     "text": [
      "Action: left, True: 25, False: 179, Accuracy: 0.1225\n",
      "Action: right, True: 48, False: 141, Accuracy: 0.2540\n",
      "Total True: 73, False: 320, Accuracy: 0.1858\n"
     ]
    }
   ],
   "source": [
    "res2 = model(X2)\n",
    "gj = {}\n",
    "bj = {}\n",
    "tg = 0\n",
    "tb = 0\n",
    "\n",
    "for key, cls in KEY_CLASS.items():\n",
    "    gj[cls] = 0\n",
    "    bj[cls] = 0\n",
    "    \n",
    "for r, p in zip(y2, res2):\n",
    "    rm = KEY_CLASS[np.argmax(r) + 1 if any(r) else 0]\n",
    "    pm = KEY_CLASS[np.argmax(p) + 1 if p[np.argmax(p)] > BELIEF_THRESHOLD else 0]\n",
    "    if rm == pm:\n",
    "        tg += 1\n",
    "        gj[rm] += 1\n",
    "    else:\n",
    "        tb += 1\n",
    "        bj[rm] += 1\n",
    "        \n",
    "for key, cls in KEY_CLASS.items():\n",
    "    if ((gj[cls] + bj[cls]) > 0):\n",
    "        print(\"Action: {}, True: {}, False: {}, Accuracy: {:.4f}\".format(cls, gj[cls], bj[cls], gj[cls] / (gj[cls] + bj[cls])))\n",
    "print(\"Total True: {}, False: {}, Accuracy: {:.4f}\".format(tg, tb, tg / (tg + tb)))"
   ]
  },
  {
   "attachments": {},
   "cell_type": "markdown",
   "metadata": {},
   "source": [
    "### Backup code"
   ]
  },
  {
   "cell_type": "code",
   "execution_count": null,
   "metadata": {},
   "outputs": [],
   "source": [
    "if X.shape[0] // CLASS_NUMBER < X_unknown.shape[0]:\n",
    "    X_unknown_add = X_unknown[np.random.choice(X_unknown.shape[0], size = int(X.shape[0] // CLASS_NUMBER), replace = False)]\n",
    "    y_unknown_add = (np.random.rand(int(X.shape[0] // CLASS_NUMBER), CLASS_NUMBER) * 0.1 + 0.15)\n",
    "else:\n",
    "    X_unknown_add = X_unknown\n",
    "    y_unknown_add = (np.random.rand(X_unknown.shape[0], CLASS_NUMBER) * 0.1 + 0.15)\n",
    "\n",
    "Xt = np.concatenate([X, X_unknown_add], axis = 0)\n",
    "yt = np.concatenate([y, y_unknown_add], axis = 0)\n",
    "    \n",
    "X_train, X_test, y_train, y_test = train_test_split(Xt, yt, test_size=0.2, random_state=343)\n",
    "\n",
    "print(X_train.shape, X_test.shape)"
   ]
  }
 ],
 "metadata": {
  "kernelspec": {
   "display_name": "Python 3 (ipykernel)",
   "language": "python",
   "name": "python3"
  },
  "language_info": {
   "codemirror_mode": {
    "name": "ipython",
    "version": 3
   },
   "file_extension": ".py",
   "mimetype": "text/x-python",
   "name": "python",
   "nbconvert_exporter": "python",
   "pygments_lexer": "ipython3",
   "version": "3.10.7"
  },
  "vscode": {
   "interpreter": {
    "hash": "369f2c481f4da34e4445cda3fffd2e751bd1c4d706f27375911949ba6bb62e1c"
   }
  }
 },
 "nbformat": 4,
 "nbformat_minor": 2
}

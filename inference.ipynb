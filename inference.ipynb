{
 "cells": [
  {
   "cell_type": "code",
   "execution_count": 1,
   "metadata": {},
   "outputs": [],
   "source": [
    "import time\n",
    "import numpy as np\n",
    "from time import sleep\n",
    "from emd.sift import sift\n",
    "import socketio\n",
    "import tensorflow as tf\n",
    "# tf.keras.mixed_precision.set_global_policy('mixed_float16')\n",
    "\n",
    "COM_PORT = 'COM3'    # 指定通訊埠名稱\n",
    "NO_ARDUINO = True\n",
    "REAL_DATA = True\n",
    "BAUD_RATE = 115200    # 設定傳輸速率\n",
    "CHANNEL_NUMBER = 3\n",
    "SAMPLE_TIME = 1 / 500\n",
    "WINDOW_SIZE = 100\n",
    "THRESHOLD = 0.5\n",
    "NUM_IMF = 6\n",
    "RECEIVE_CHANNEL = 'ArduinoSignal'\n",
    "EMIT_CHANNEL = 'InferenceResults'\n",
    "\n",
    "ACTIONS = ['undefined action', 'up', 'down', 'left', 'right', 'quick touch']\n",
    "MAXCHARLEN = max([len(x) for x in ACTIONS])\n",
    "\n",
    "model_path = './model/LickingPark'\n",
    "server_url = 'http://localhost:3000'"
   ]
  },
  {
   "cell_type": "code",
   "execution_count": 2,
   "metadata": {},
   "outputs": [],
   "source": [
    "class inference():\n",
    "    def __init__(self, url, modelPath) -> None:\n",
    "        self.__model = tf.keras.models.load_model(modelPath)\n",
    "        self.__sio = socketio.Client()\n",
    "        self.__sio.connect(url)\n",
    "        try:\n",
    "            assert isinstance(self._sio, socketio.Client)\n",
    "            print(\"Connected to Socket server.\")\n",
    "        except:\n",
    "            raise Exception(\"Maybe server is not online.\")\n",
    "        self.__container = None\n",
    "        \n",
    "    def __revieveSignal(self, raw):\n",
    "        try: # received CHANNEL_NUMBER * WINDOW_SIZE size of data\n",
    "            self.__container = np.array(raw.rstrip(',').split(\",\")).astype(np.float32).reshape(CHANNEL_NUMBER, WINDOW_SIZE).T\n",
    "        except: # received CHANNEL_NUMBER size of data\n",
    "            data = np.array(raw.split(\",\")).astype(np.float32)\n",
    "            if isinstance(self.__container, np.ndarray):\n",
    "                if self.__container.shape[0] < WINDOW_SIZE:\n",
    "                    self.__container = np.concatenate([self.__container, data[np.newaxis,:]], axis=0)\n",
    "                else:\n",
    "                    self.__container = np.concatenate([self.__container[1:], data[np.newaxis,:]], axis=0)\n",
    "            else:\n",
    "                self.__container = data[np.newaxis,:]\n",
    "    \n",
    "    def run(self):\n",
    "        print(\"Starting inference.\")\n",
    "        self.__sio.on(RECEIVE_CHANNEL, self.__revieveSignal)\n",
    "        while True:\n",
    "            try:\n",
    "                data = self.__container.copy()\n",
    "                assert data.shape[1] == WINDOW_SIZE\n",
    "                # timer = time.time()\n",
    "                inputData = self.__emdSignal(data)\n",
    "                # emdTime = time.time() - timer\n",
    "                # timer = time.time()\n",
    "                res = self.__model.predict(inputData,\n",
    "                                          verbose = False)\n",
    "                # print(res)\n",
    "                # print(\"Spend {:.3f}s handling signal, {:.3f}s predicting, the result is {}.\".format(emdTime, time.time() - timer, res))\n",
    "                print(ACTIONS[np.argmax(res)].ljust(MAXCHARLEN), end='\\r')\n",
    "                self.__sio.emit(EMIT_CHANNEL, ACTIONS[np.argmax(res)])\n",
    "            except KeyboardInterrupt:\n",
    "                self.__sio.disconnect()\n",
    "                break \n",
    "            except:\n",
    "                continue #it's a None\n",
    "                   \n",
    "        print(\"Inference finished.\")\n",
    "        \n",
    "    def __emdSignal(self, sig):\n",
    "        channel = sig.shape[-1]\n",
    "        ret = None\n",
    "    \n",
    "        for c in range(channel):\n",
    "            raw = sig[0, :, c]\n",
    "            imf = sift(raw, max_imfs=NUM_IMF, imf_opts={'sd_thresh': 0.1})\n",
    "            \n",
    "            if imf.shape[-1] < NUM_IMF:\n",
    "                compensate = np.zeros((WINDOW_SIZE, NUM_IMF - imf.shape[-1]))\n",
    "                imf = np.concatenate([imf, compensate], axis = 1)\n",
    "            \n",
    "            if not type(ret) == np.ndarray: \n",
    "                ret = imf\n",
    "            else: \n",
    "                ret = np.concatenate([ret, imf], axis = 1)\n",
    "                     \n",
    "        return ret[np.newaxis, :]"
   ]
  },
  {
   "cell_type": "code",
   "execution_count": 4,
   "metadata": {},
   "outputs": [
    {
     "name": "stdout",
     "output_type": "stream",
     "text": [
      "Connected to Socket server.\n",
      "Starting inference.\n"
     ]
    }
   ],
   "source": [
    "emdCNN = inference(server_url, model_path)\n",
    "emdCNN.run()"
   ]
  }
 ],
 "metadata": {
  "kernelspec": {
   "display_name": "Python 3 (ipykernel)",
   "language": "python",
   "name": "python3"
  },
  "language_info": {
   "codemirror_mode": {
    "name": "ipython",
    "version": 3
   },
   "file_extension": ".py",
   "mimetype": "text/x-python",
   "name": "python",
   "nbconvert_exporter": "python",
   "pygments_lexer": "ipython3",
   "version": "3.10.9"
  },
  "vscode": {
   "interpreter": {
    "hash": "369f2c481f4da34e4445cda3fffd2e751bd1c4d706f27375911949ba6bb62e1c"
   }
  }
 },
 "nbformat": 4,
 "nbformat_minor": 2
}
